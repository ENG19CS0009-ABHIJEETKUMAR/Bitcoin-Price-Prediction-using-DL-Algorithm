{
  "nbformat": 4,
  "nbformat_minor": 0,
  "metadata": {
    "colab": {
      "name": "Minor Project Team18 Final Implementation.ipynb",
      "provenance": [],
      "collapsed_sections": [],
      "include_colab_link": true
    },
    "kernelspec": {
      "name": "python3",
      "display_name": "Python 3"
    },
    "language_info": {
      "name": "python"
    }
  },
  "cells": [
    {
      "cell_type": "markdown",
      "metadata": {
        "id": "view-in-github",
        "colab_type": "text"
      },
      "source": [
        "<a href=\"https://colab.research.google.com/github/ENG19CS0009-ABHIJEETKUMAR/Bitcoin-Price-Prediction-using-DL-Algorithm/blob/main/Minor_Project_Team18_Final_Implementation.ipynb\" target=\"_parent\"><img src=\"https://colab.research.google.com/assets/colab-badge.svg\" alt=\"Open In Colab\"/></a>"
      ]
    },
    {
      "cell_type": "markdown",
      "metadata": {
        "id": "2NI14MlN7xss"
      },
      "source": [
        "#BITCOIN PRICE PREDICTOR"
      ]
    },
    {
      "cell_type": "markdown",
      "metadata": {
        "id": "lKKREvaYOo3k"
      },
      "source": [
        "###Project Members-\n",
        "1. Abhijeet Kumar (ENG19CS0009)\n",
        "2. Abhijith JK    (ENG19CS0010)\n",
        "3. Amisha Asrani  (ENG19CS0029)\n",
        "4. Aryan Kumar    (ENG19CS0044)"
      ]
    },
    {
      "cell_type": "code",
      "metadata": {
        "id": "hts3a0TO8IEC"
      },
      "source": [
        "#importing necessary libraries\n",
        "import numpy as np\n",
        "from matplotlib import pyplot\n",
        "import pandas as pd\n",
        "from sklearn.preprocessing import MinMaxScaler\n",
        "import matplotlib.pyplot as plt\n",
        "import seaborn as sns\n",
        "from sklearn.model_selection import train_test_split"
      ],
      "execution_count": null,
      "outputs": []
    },
    {
      "cell_type": "markdown",
      "source": [
        "##DATA COLLECTION"
      ],
      "metadata": {
        "id": "OIQxXpBaZfPt"
      }
    },
    {
      "cell_type": "code",
      "metadata": {
        "id": "-AkQAK_M8REC"
      },
      "source": [
        "data = pd.read_csv('/content/BTC-USD.csv', date_parser = True)"
      ],
      "execution_count": null,
      "outputs": []
    },
    {
      "cell_type": "code",
      "metadata": {
        "id": "1HLzK3dX8RPx",
        "colab": {
          "base_uri": "https://localhost:8080/"
        },
        "outputId": "012843d0-5caa-4410-b9fb-f8212cf4d03a"
      },
      "source": [
        "print('Total number of days present in the dataset: ',data.shape[0])\n",
        "print('Total number of fields present in the dataset: ',data.shape[1])\n",
        "data.shape"
      ],
      "execution_count": null,
      "outputs": [
        {
          "output_type": "stream",
          "name": "stdout",
          "text": [
            "Total number of days present in the dataset:  366\n",
            "Total number of fields present in the dataset:  7\n"
          ]
        },
        {
          "output_type": "execute_result",
          "data": {
            "text/plain": [
              "(366, 7)"
            ]
          },
          "metadata": {},
          "execution_count": 4
        }
      ]
    },
    {
      "cell_type": "code",
      "metadata": {
        "id": "aQkGhgjT8RRg",
        "colab": {
          "base_uri": "https://localhost:8080/",
          "height": 206
        },
        "outputId": "6d9a177d-c6dd-42fd-f674-a25b98721c3f"
      },
      "source": [
        "data.head()"
      ],
      "execution_count": null,
      "outputs": [
        {
          "output_type": "execute_result",
          "data": {
            "text/html": [
              "\n",
              "  <div id=\"df-789fb5b0-fb36-4775-a108-b45910a756fe\">\n",
              "    <div class=\"colab-df-container\">\n",
              "      <div>\n",
              "<style scoped>\n",
              "    .dataframe tbody tr th:only-of-type {\n",
              "        vertical-align: middle;\n",
              "    }\n",
              "\n",
              "    .dataframe tbody tr th {\n",
              "        vertical-align: top;\n",
              "    }\n",
              "\n",
              "    .dataframe thead th {\n",
              "        text-align: right;\n",
              "    }\n",
              "</style>\n",
              "<table border=\"1\" class=\"dataframe\">\n",
              "  <thead>\n",
              "    <tr style=\"text-align: right;\">\n",
              "      <th></th>\n",
              "      <th>Date</th>\n",
              "      <th>Open</th>\n",
              "      <th>High</th>\n",
              "      <th>Low</th>\n",
              "      <th>Close</th>\n",
              "      <th>Adj Close</th>\n",
              "      <th>Volume</th>\n",
              "    </tr>\n",
              "  </thead>\n",
              "  <tbody>\n",
              "    <tr>\n",
              "      <th>0</th>\n",
              "      <td>2020-11-26</td>\n",
              "      <td>18729.839844</td>\n",
              "      <td>18866.285156</td>\n",
              "      <td>16351.035156</td>\n",
              "      <td>17150.623047</td>\n",
              "      <td>17150.623047</td>\n",
              "      <td>61396835737</td>\n",
              "    </tr>\n",
              "    <tr>\n",
              "      <th>1</th>\n",
              "      <td>2020-11-27</td>\n",
              "      <td>17153.914063</td>\n",
              "      <td>17445.023438</td>\n",
              "      <td>16526.423828</td>\n",
              "      <td>17108.402344</td>\n",
              "      <td>17108.402344</td>\n",
              "      <td>38886494645</td>\n",
              "    </tr>\n",
              "    <tr>\n",
              "      <th>2</th>\n",
              "      <td>2020-11-28</td>\n",
              "      <td>17112.933594</td>\n",
              "      <td>17853.939453</td>\n",
              "      <td>16910.652344</td>\n",
              "      <td>17717.414063</td>\n",
              "      <td>17717.414063</td>\n",
              "      <td>32601040734</td>\n",
              "    </tr>\n",
              "    <tr>\n",
              "      <th>3</th>\n",
              "      <td>2020-11-29</td>\n",
              "      <td>17719.634766</td>\n",
              "      <td>18283.628906</td>\n",
              "      <td>17559.117188</td>\n",
              "      <td>18177.484375</td>\n",
              "      <td>18177.484375</td>\n",
              "      <td>31133957704</td>\n",
              "    </tr>\n",
              "    <tr>\n",
              "      <th>4</th>\n",
              "      <td>2020-11-30</td>\n",
              "      <td>18178.322266</td>\n",
              "      <td>19749.263672</td>\n",
              "      <td>18178.322266</td>\n",
              "      <td>19625.835938</td>\n",
              "      <td>19625.835938</td>\n",
              "      <td>47728480399</td>\n",
              "    </tr>\n",
              "  </tbody>\n",
              "</table>\n",
              "</div>\n",
              "      <button class=\"colab-df-convert\" onclick=\"convertToInteractive('df-789fb5b0-fb36-4775-a108-b45910a756fe')\"\n",
              "              title=\"Convert this dataframe to an interactive table.\"\n",
              "              style=\"display:none;\">\n",
              "        \n",
              "  <svg xmlns=\"http://www.w3.org/2000/svg\" height=\"24px\"viewBox=\"0 0 24 24\"\n",
              "       width=\"24px\">\n",
              "    <path d=\"M0 0h24v24H0V0z\" fill=\"none\"/>\n",
              "    <path d=\"M18.56 5.44l.94 2.06.94-2.06 2.06-.94-2.06-.94-.94-2.06-.94 2.06-2.06.94zm-11 1L8.5 8.5l.94-2.06 2.06-.94-2.06-.94L8.5 2.5l-.94 2.06-2.06.94zm10 10l.94 2.06.94-2.06 2.06-.94-2.06-.94-.94-2.06-.94 2.06-2.06.94z\"/><path d=\"M17.41 7.96l-1.37-1.37c-.4-.4-.92-.59-1.43-.59-.52 0-1.04.2-1.43.59L10.3 9.45l-7.72 7.72c-.78.78-.78 2.05 0 2.83L4 21.41c.39.39.9.59 1.41.59.51 0 1.02-.2 1.41-.59l7.78-7.78 2.81-2.81c.8-.78.8-2.07 0-2.86zM5.41 20L4 18.59l7.72-7.72 1.47 1.35L5.41 20z\"/>\n",
              "  </svg>\n",
              "      </button>\n",
              "      \n",
              "  <style>\n",
              "    .colab-df-container {\n",
              "      display:flex;\n",
              "      flex-wrap:wrap;\n",
              "      gap: 12px;\n",
              "    }\n",
              "\n",
              "    .colab-df-convert {\n",
              "      background-color: #E8F0FE;\n",
              "      border: none;\n",
              "      border-radius: 50%;\n",
              "      cursor: pointer;\n",
              "      display: none;\n",
              "      fill: #1967D2;\n",
              "      height: 32px;\n",
              "      padding: 0 0 0 0;\n",
              "      width: 32px;\n",
              "    }\n",
              "\n",
              "    .colab-df-convert:hover {\n",
              "      background-color: #E2EBFA;\n",
              "      box-shadow: 0px 1px 2px rgba(60, 64, 67, 0.3), 0px 1px 3px 1px rgba(60, 64, 67, 0.15);\n",
              "      fill: #174EA6;\n",
              "    }\n",
              "\n",
              "    [theme=dark] .colab-df-convert {\n",
              "      background-color: #3B4455;\n",
              "      fill: #D2E3FC;\n",
              "    }\n",
              "\n",
              "    [theme=dark] .colab-df-convert:hover {\n",
              "      background-color: #434B5C;\n",
              "      box-shadow: 0px 1px 3px 1px rgba(0, 0, 0, 0.15);\n",
              "      filter: drop-shadow(0px 1px 2px rgba(0, 0, 0, 0.3));\n",
              "      fill: #FFFFFF;\n",
              "    }\n",
              "  </style>\n",
              "\n",
              "      <script>\n",
              "        const buttonEl =\n",
              "          document.querySelector('#df-789fb5b0-fb36-4775-a108-b45910a756fe button.colab-df-convert');\n",
              "        buttonEl.style.display =\n",
              "          google.colab.kernel.accessAllowed ? 'block' : 'none';\n",
              "\n",
              "        async function convertToInteractive(key) {\n",
              "          const element = document.querySelector('#df-789fb5b0-fb36-4775-a108-b45910a756fe');\n",
              "          const dataTable =\n",
              "            await google.colab.kernel.invokeFunction('convertToInteractive',\n",
              "                                                     [key], {});\n",
              "          if (!dataTable) return;\n",
              "\n",
              "          const docLinkHtml = 'Like what you see? Visit the ' +\n",
              "            '<a target=\"_blank\" href=https://colab.research.google.com/notebooks/data_table.ipynb>data table notebook</a>'\n",
              "            + ' to learn more about interactive tables.';\n",
              "          element.innerHTML = '';\n",
              "          dataTable['output_type'] = 'display_data';\n",
              "          await google.colab.output.renderOutput(dataTable, element);\n",
              "          const docLink = document.createElement('div');\n",
              "          docLink.innerHTML = docLinkHtml;\n",
              "          element.appendChild(docLink);\n",
              "        }\n",
              "      </script>\n",
              "    </div>\n",
              "  </div>\n",
              "  "
            ],
            "text/plain": [
              "         Date          Open  ...     Adj Close       Volume\n",
              "0  2020-11-26  18729.839844  ...  17150.623047  61396835737\n",
              "1  2020-11-27  17153.914063  ...  17108.402344  38886494645\n",
              "2  2020-11-28  17112.933594  ...  17717.414063  32601040734\n",
              "3  2020-11-29  17719.634766  ...  18177.484375  31133957704\n",
              "4  2020-11-30  18178.322266  ...  19625.835938  47728480399\n",
              "\n",
              "[5 rows x 7 columns]"
            ]
          },
          "metadata": {},
          "execution_count": 5
        }
      ]
    },
    {
      "cell_type": "code",
      "metadata": {
        "id": "c4dUdPe18RVD",
        "colab": {
          "base_uri": "https://localhost:8080/",
          "height": 206
        },
        "outputId": "0e3c8a67-317f-48f3-f745-a4cb2aec614d"
      },
      "source": [
        "data.tail()"
      ],
      "execution_count": null,
      "outputs": [
        {
          "output_type": "execute_result",
          "data": {
            "text/html": [
              "\n",
              "  <div id=\"df-d758a8db-eefb-40d2-b105-6ae131891790\">\n",
              "    <div class=\"colab-df-container\">\n",
              "      <div>\n",
              "<style scoped>\n",
              "    .dataframe tbody tr th:only-of-type {\n",
              "        vertical-align: middle;\n",
              "    }\n",
              "\n",
              "    .dataframe tbody tr th {\n",
              "        vertical-align: top;\n",
              "    }\n",
              "\n",
              "    .dataframe thead th {\n",
              "        text-align: right;\n",
              "    }\n",
              "</style>\n",
              "<table border=\"1\" class=\"dataframe\">\n",
              "  <thead>\n",
              "    <tr style=\"text-align: right;\">\n",
              "      <th></th>\n",
              "      <th>Date</th>\n",
              "      <th>Open</th>\n",
              "      <th>High</th>\n",
              "      <th>Low</th>\n",
              "      <th>Close</th>\n",
              "      <th>Adj Close</th>\n",
              "      <th>Volume</th>\n",
              "    </tr>\n",
              "  </thead>\n",
              "  <tbody>\n",
              "    <tr>\n",
              "      <th>361</th>\n",
              "      <td>2021-11-22</td>\n",
              "      <td>58706.847656</td>\n",
              "      <td>59266.359375</td>\n",
              "      <td>55679.839844</td>\n",
              "      <td>56289.289063</td>\n",
              "      <td>56289.289063</td>\n",
              "      <td>35036121783</td>\n",
              "    </tr>\n",
              "    <tr>\n",
              "      <th>362</th>\n",
              "      <td>2021-11-23</td>\n",
              "      <td>56304.554688</td>\n",
              "      <td>57875.515625</td>\n",
              "      <td>55632.761719</td>\n",
              "      <td>57569.074219</td>\n",
              "      <td>57569.074219</td>\n",
              "      <td>37485803899</td>\n",
              "    </tr>\n",
              "    <tr>\n",
              "      <th>363</th>\n",
              "      <td>2021-11-24</td>\n",
              "      <td>57565.851563</td>\n",
              "      <td>57803.066406</td>\n",
              "      <td>55964.222656</td>\n",
              "      <td>56280.425781</td>\n",
              "      <td>56280.425781</td>\n",
              "      <td>36635566789</td>\n",
              "    </tr>\n",
              "    <tr>\n",
              "      <th>364</th>\n",
              "      <td>2021-11-25</td>\n",
              "      <td>57165.417969</td>\n",
              "      <td>59367.968750</td>\n",
              "      <td>57146.683594</td>\n",
              "      <td>57274.679688</td>\n",
              "      <td>57274.679688</td>\n",
              "      <td>34284016248</td>\n",
              "    </tr>\n",
              "    <tr>\n",
              "      <th>365</th>\n",
              "      <td>2021-11-26</td>\n",
              "      <td>59043.957031</td>\n",
              "      <td>59180.343750</td>\n",
              "      <td>53625.210938</td>\n",
              "      <td>54500.160156</td>\n",
              "      <td>54500.160156</td>\n",
              "      <td>43114151936</td>\n",
              "    </tr>\n",
              "  </tbody>\n",
              "</table>\n",
              "</div>\n",
              "      <button class=\"colab-df-convert\" onclick=\"convertToInteractive('df-d758a8db-eefb-40d2-b105-6ae131891790')\"\n",
              "              title=\"Convert this dataframe to an interactive table.\"\n",
              "              style=\"display:none;\">\n",
              "        \n",
              "  <svg xmlns=\"http://www.w3.org/2000/svg\" height=\"24px\"viewBox=\"0 0 24 24\"\n",
              "       width=\"24px\">\n",
              "    <path d=\"M0 0h24v24H0V0z\" fill=\"none\"/>\n",
              "    <path d=\"M18.56 5.44l.94 2.06.94-2.06 2.06-.94-2.06-.94-.94-2.06-.94 2.06-2.06.94zm-11 1L8.5 8.5l.94-2.06 2.06-.94-2.06-.94L8.5 2.5l-.94 2.06-2.06.94zm10 10l.94 2.06.94-2.06 2.06-.94-2.06-.94-.94-2.06-.94 2.06-2.06.94z\"/><path d=\"M17.41 7.96l-1.37-1.37c-.4-.4-.92-.59-1.43-.59-.52 0-1.04.2-1.43.59L10.3 9.45l-7.72 7.72c-.78.78-.78 2.05 0 2.83L4 21.41c.39.39.9.59 1.41.59.51 0 1.02-.2 1.41-.59l7.78-7.78 2.81-2.81c.8-.78.8-2.07 0-2.86zM5.41 20L4 18.59l7.72-7.72 1.47 1.35L5.41 20z\"/>\n",
              "  </svg>\n",
              "      </button>\n",
              "      \n",
              "  <style>\n",
              "    .colab-df-container {\n",
              "      display:flex;\n",
              "      flex-wrap:wrap;\n",
              "      gap: 12px;\n",
              "    }\n",
              "\n",
              "    .colab-df-convert {\n",
              "      background-color: #E8F0FE;\n",
              "      border: none;\n",
              "      border-radius: 50%;\n",
              "      cursor: pointer;\n",
              "      display: none;\n",
              "      fill: #1967D2;\n",
              "      height: 32px;\n",
              "      padding: 0 0 0 0;\n",
              "      width: 32px;\n",
              "    }\n",
              "\n",
              "    .colab-df-convert:hover {\n",
              "      background-color: #E2EBFA;\n",
              "      box-shadow: 0px 1px 2px rgba(60, 64, 67, 0.3), 0px 1px 3px 1px rgba(60, 64, 67, 0.15);\n",
              "      fill: #174EA6;\n",
              "    }\n",
              "\n",
              "    [theme=dark] .colab-df-convert {\n",
              "      background-color: #3B4455;\n",
              "      fill: #D2E3FC;\n",
              "    }\n",
              "\n",
              "    [theme=dark] .colab-df-convert:hover {\n",
              "      background-color: #434B5C;\n",
              "      box-shadow: 0px 1px 3px 1px rgba(0, 0, 0, 0.15);\n",
              "      filter: drop-shadow(0px 1px 2px rgba(0, 0, 0, 0.3));\n",
              "      fill: #FFFFFF;\n",
              "    }\n",
              "  </style>\n",
              "\n",
              "      <script>\n",
              "        const buttonEl =\n",
              "          document.querySelector('#df-d758a8db-eefb-40d2-b105-6ae131891790 button.colab-df-convert');\n",
              "        buttonEl.style.display =\n",
              "          google.colab.kernel.accessAllowed ? 'block' : 'none';\n",
              "\n",
              "        async function convertToInteractive(key) {\n",
              "          const element = document.querySelector('#df-d758a8db-eefb-40d2-b105-6ae131891790');\n",
              "          const dataTable =\n",
              "            await google.colab.kernel.invokeFunction('convertToInteractive',\n",
              "                                                     [key], {});\n",
              "          if (!dataTable) return;\n",
              "\n",
              "          const docLinkHtml = 'Like what you see? Visit the ' +\n",
              "            '<a target=\"_blank\" href=https://colab.research.google.com/notebooks/data_table.ipynb>data table notebook</a>'\n",
              "            + ' to learn more about interactive tables.';\n",
              "          element.innerHTML = '';\n",
              "          dataTable['output_type'] = 'display_data';\n",
              "          await google.colab.output.renderOutput(dataTable, element);\n",
              "          const docLink = document.createElement('div');\n",
              "          docLink.innerHTML = docLinkHtml;\n",
              "          element.appendChild(docLink);\n",
              "        }\n",
              "      </script>\n",
              "    </div>\n",
              "  </div>\n",
              "  "
            ],
            "text/plain": [
              "           Date          Open  ...     Adj Close       Volume\n",
              "361  2021-11-22  58706.847656  ...  56289.289063  35036121783\n",
              "362  2021-11-23  56304.554688  ...  57569.074219  37485803899\n",
              "363  2021-11-24  57565.851563  ...  56280.425781  36635566789\n",
              "364  2021-11-25  57165.417969  ...  57274.679688  34284016248\n",
              "365  2021-11-26  59043.957031  ...  54500.160156  43114151936\n",
              "\n",
              "[5 rows x 7 columns]"
            ]
          },
          "metadata": {},
          "execution_count": 6
        }
      ]
    },
    {
      "cell_type": "code",
      "metadata": {
        "id": "xvoiQH6b8WoO",
        "colab": {
          "base_uri": "https://localhost:8080/"
        },
        "outputId": "e58a1ed7-51c6-468e-c8dc-eaf044cf729c"
      },
      "source": [
        "#checking for null values in main dataset\n",
        "data.isnull().sum()"
      ],
      "execution_count": null,
      "outputs": [
        {
          "output_type": "execute_result",
          "data": {
            "text/plain": [
              "Date         0\n",
              "Open         0\n",
              "High         0\n",
              "Low          0\n",
              "Close        0\n",
              "Adj Close    0\n",
              "Volume       0\n",
              "dtype: int64"
            ]
          },
          "metadata": {},
          "execution_count": 7
        }
      ]
    },
    {
      "cell_type": "code",
      "metadata": {
        "id": "1jt9e4d58RWj",
        "colab": {
          "base_uri": "https://localhost:8080/"
        },
        "outputId": "8ee2c374-940a-4912-de0e-05152dbf4ad8"
      },
      "source": [
        "data.info()"
      ],
      "execution_count": null,
      "outputs": [
        {
          "output_type": "stream",
          "name": "stdout",
          "text": [
            "<class 'pandas.core.frame.DataFrame'>\n",
            "RangeIndex: 366 entries, 0 to 365\n",
            "Data columns (total 7 columns):\n",
            " #   Column     Non-Null Count  Dtype  \n",
            "---  ------     --------------  -----  \n",
            " 0   Date       366 non-null    object \n",
            " 1   Open       366 non-null    float64\n",
            " 2   High       366 non-null    float64\n",
            " 3   Low        366 non-null    float64\n",
            " 4   Close      366 non-null    float64\n",
            " 5   Adj Close  366 non-null    float64\n",
            " 6   Volume     366 non-null    int64  \n",
            "dtypes: float64(5), int64(1), object(1)\n",
            "memory usage: 20.1+ KB\n"
          ]
        }
      ]
    },
    {
      "cell_type": "code",
      "metadata": {
        "id": "BzqS2qUI8Rbs",
        "colab": {
          "base_uri": "https://localhost:8080/",
          "height": 206
        },
        "outputId": "9ccb54ae-5ba1-4199-d9a9-c1bb274415a6"
      },
      "source": [
        "#We dont need 'Date' Column to make predictions so we drop it\n",
        "data=data.drop(data[['Date']],axis=1)\n",
        "data.head()"
      ],
      "execution_count": null,
      "outputs": [
        {
          "output_type": "execute_result",
          "data": {
            "text/html": [
              "\n",
              "  <div id=\"df-5705d26f-3db2-42d7-b325-502a8803ada5\">\n",
              "    <div class=\"colab-df-container\">\n",
              "      <div>\n",
              "<style scoped>\n",
              "    .dataframe tbody tr th:only-of-type {\n",
              "        vertical-align: middle;\n",
              "    }\n",
              "\n",
              "    .dataframe tbody tr th {\n",
              "        vertical-align: top;\n",
              "    }\n",
              "\n",
              "    .dataframe thead th {\n",
              "        text-align: right;\n",
              "    }\n",
              "</style>\n",
              "<table border=\"1\" class=\"dataframe\">\n",
              "  <thead>\n",
              "    <tr style=\"text-align: right;\">\n",
              "      <th></th>\n",
              "      <th>Open</th>\n",
              "      <th>High</th>\n",
              "      <th>Low</th>\n",
              "      <th>Close</th>\n",
              "      <th>Adj Close</th>\n",
              "      <th>Volume</th>\n",
              "    </tr>\n",
              "  </thead>\n",
              "  <tbody>\n",
              "    <tr>\n",
              "      <th>0</th>\n",
              "      <td>18729.839844</td>\n",
              "      <td>18866.285156</td>\n",
              "      <td>16351.035156</td>\n",
              "      <td>17150.623047</td>\n",
              "      <td>17150.623047</td>\n",
              "      <td>61396835737</td>\n",
              "    </tr>\n",
              "    <tr>\n",
              "      <th>1</th>\n",
              "      <td>17153.914063</td>\n",
              "      <td>17445.023438</td>\n",
              "      <td>16526.423828</td>\n",
              "      <td>17108.402344</td>\n",
              "      <td>17108.402344</td>\n",
              "      <td>38886494645</td>\n",
              "    </tr>\n",
              "    <tr>\n",
              "      <th>2</th>\n",
              "      <td>17112.933594</td>\n",
              "      <td>17853.939453</td>\n",
              "      <td>16910.652344</td>\n",
              "      <td>17717.414063</td>\n",
              "      <td>17717.414063</td>\n",
              "      <td>32601040734</td>\n",
              "    </tr>\n",
              "    <tr>\n",
              "      <th>3</th>\n",
              "      <td>17719.634766</td>\n",
              "      <td>18283.628906</td>\n",
              "      <td>17559.117188</td>\n",
              "      <td>18177.484375</td>\n",
              "      <td>18177.484375</td>\n",
              "      <td>31133957704</td>\n",
              "    </tr>\n",
              "    <tr>\n",
              "      <th>4</th>\n",
              "      <td>18178.322266</td>\n",
              "      <td>19749.263672</td>\n",
              "      <td>18178.322266</td>\n",
              "      <td>19625.835938</td>\n",
              "      <td>19625.835938</td>\n",
              "      <td>47728480399</td>\n",
              "    </tr>\n",
              "  </tbody>\n",
              "</table>\n",
              "</div>\n",
              "      <button class=\"colab-df-convert\" onclick=\"convertToInteractive('df-5705d26f-3db2-42d7-b325-502a8803ada5')\"\n",
              "              title=\"Convert this dataframe to an interactive table.\"\n",
              "              style=\"display:none;\">\n",
              "        \n",
              "  <svg xmlns=\"http://www.w3.org/2000/svg\" height=\"24px\"viewBox=\"0 0 24 24\"\n",
              "       width=\"24px\">\n",
              "    <path d=\"M0 0h24v24H0V0z\" fill=\"none\"/>\n",
              "    <path d=\"M18.56 5.44l.94 2.06.94-2.06 2.06-.94-2.06-.94-.94-2.06-.94 2.06-2.06.94zm-11 1L8.5 8.5l.94-2.06 2.06-.94-2.06-.94L8.5 2.5l-.94 2.06-2.06.94zm10 10l.94 2.06.94-2.06 2.06-.94-2.06-.94-.94-2.06-.94 2.06-2.06.94z\"/><path d=\"M17.41 7.96l-1.37-1.37c-.4-.4-.92-.59-1.43-.59-.52 0-1.04.2-1.43.59L10.3 9.45l-7.72 7.72c-.78.78-.78 2.05 0 2.83L4 21.41c.39.39.9.59 1.41.59.51 0 1.02-.2 1.41-.59l7.78-7.78 2.81-2.81c.8-.78.8-2.07 0-2.86zM5.41 20L4 18.59l7.72-7.72 1.47 1.35L5.41 20z\"/>\n",
              "  </svg>\n",
              "      </button>\n",
              "      \n",
              "  <style>\n",
              "    .colab-df-container {\n",
              "      display:flex;\n",
              "      flex-wrap:wrap;\n",
              "      gap: 12px;\n",
              "    }\n",
              "\n",
              "    .colab-df-convert {\n",
              "      background-color: #E8F0FE;\n",
              "      border: none;\n",
              "      border-radius: 50%;\n",
              "      cursor: pointer;\n",
              "      display: none;\n",
              "      fill: #1967D2;\n",
              "      height: 32px;\n",
              "      padding: 0 0 0 0;\n",
              "      width: 32px;\n",
              "    }\n",
              "\n",
              "    .colab-df-convert:hover {\n",
              "      background-color: #E2EBFA;\n",
              "      box-shadow: 0px 1px 2px rgba(60, 64, 67, 0.3), 0px 1px 3px 1px rgba(60, 64, 67, 0.15);\n",
              "      fill: #174EA6;\n",
              "    }\n",
              "\n",
              "    [theme=dark] .colab-df-convert {\n",
              "      background-color: #3B4455;\n",
              "      fill: #D2E3FC;\n",
              "    }\n",
              "\n",
              "    [theme=dark] .colab-df-convert:hover {\n",
              "      background-color: #434B5C;\n",
              "      box-shadow: 0px 1px 3px 1px rgba(0, 0, 0, 0.15);\n",
              "      filter: drop-shadow(0px 1px 2px rgba(0, 0, 0, 0.3));\n",
              "      fill: #FFFFFF;\n",
              "    }\n",
              "  </style>\n",
              "\n",
              "      <script>\n",
              "        const buttonEl =\n",
              "          document.querySelector('#df-5705d26f-3db2-42d7-b325-502a8803ada5 button.colab-df-convert');\n",
              "        buttonEl.style.display =\n",
              "          google.colab.kernel.accessAllowed ? 'block' : 'none';\n",
              "\n",
              "        async function convertToInteractive(key) {\n",
              "          const element = document.querySelector('#df-5705d26f-3db2-42d7-b325-502a8803ada5');\n",
              "          const dataTable =\n",
              "            await google.colab.kernel.invokeFunction('convertToInteractive',\n",
              "                                                     [key], {});\n",
              "          if (!dataTable) return;\n",
              "\n",
              "          const docLinkHtml = 'Like what you see? Visit the ' +\n",
              "            '<a target=\"_blank\" href=https://colab.research.google.com/notebooks/data_table.ipynb>data table notebook</a>'\n",
              "            + ' to learn more about interactive tables.';\n",
              "          element.innerHTML = '';\n",
              "          dataTable['output_type'] = 'display_data';\n",
              "          await google.colab.output.renderOutput(dataTable, element);\n",
              "          const docLink = document.createElement('div');\n",
              "          docLink.innerHTML = docLinkHtml;\n",
              "          element.appendChild(docLink);\n",
              "        }\n",
              "      </script>\n",
              "    </div>\n",
              "  </div>\n",
              "  "
            ],
            "text/plain": [
              "           Open          High  ...     Adj Close       Volume\n",
              "0  18729.839844  18866.285156  ...  17150.623047  61396835737\n",
              "1  17153.914063  17445.023438  ...  17108.402344  38886494645\n",
              "2  17112.933594  17853.939453  ...  17717.414063  32601040734\n",
              "3  17719.634766  18283.628906  ...  18177.484375  31133957704\n",
              "4  18178.322266  19749.263672  ...  19625.835938  47728480399\n",
              "\n",
              "[5 rows x 6 columns]"
            ]
          },
          "metadata": {},
          "execution_count": 9
        }
      ]
    },
    {
      "cell_type": "code",
      "source": [
        "x=data.copy()\n",
        "x=x.drop(x[['Close']],axis=1)\n",
        "x.shape"
      ],
      "metadata": {
        "id": "f77D0RCWK4bQ",
        "colab": {
          "base_uri": "https://localhost:8080/"
        },
        "outputId": "b7294faa-fade-4651-98e8-199581610ac9"
      },
      "execution_count": null,
      "outputs": [
        {
          "output_type": "execute_result",
          "data": {
            "text/plain": [
              "(366, 5)"
            ]
          },
          "metadata": {},
          "execution_count": 10
        }
      ]
    },
    {
      "cell_type": "code",
      "source": [
        "y=data.copy()\n",
        "y=y.drop(y[['Open','High','Low','Adj Close','Volume']],axis=1)\n",
        "y.shape"
      ],
      "metadata": {
        "id": "qWSDWCXOHRFU",
        "colab": {
          "base_uri": "https://localhost:8080/"
        },
        "outputId": "c5212298-83b1-4620-f34c-97831fecf839"
      },
      "execution_count": null,
      "outputs": [
        {
          "output_type": "execute_result",
          "data": {
            "text/plain": [
              "(366, 1)"
            ]
          },
          "metadata": {},
          "execution_count": 11
        }
      ]
    },
    {
      "cell_type": "markdown",
      "source": [
        "##FEATURE EXTRACTION"
      ],
      "metadata": {
        "id": "VWZ1pGLIYDf3"
      }
    },
    {
      "cell_type": "code",
      "source": [
        "colormap = plt.cm.RdBu\n",
        "plt.figure(figsize=(14,12))\n",
        "plt.title(' Correlation of Features', y=1.05, size=15)\n",
        "sns.heatmap(x.corr(),cmap=colormap, linewidths = 0.30, annot = True)"
      ],
      "metadata": {
        "id": "8ZrzvYU-YEK8",
        "colab": {
          "base_uri": "https://localhost:8080/",
          "height": 768
        },
        "outputId": "2f93af17-09d6-4098-dede-79f01047d09f"
      },
      "execution_count": null,
      "outputs": [
        {
          "output_type": "execute_result",
          "data": {
            "text/plain": [
              "<matplotlib.axes._subplots.AxesSubplot at 0x7f7280c9b410>"
            ]
          },
          "metadata": {},
          "execution_count": 12
        },
        {
          "output_type": "display_data",
          "data": {
            "image/png": "[encoded data removed]",
            "text/plain": [
              "<Figure size 1008x864 with 2 Axes>"
            ]
          },
          "metadata": {
            "needs_background": "light"
          }
        }
      ]
    },
    {
      "cell_type": "markdown",
      "source": [
        "We are dropping the 'High' and 'Adj Close' columns for training,validation and test data"
      ],
      "metadata": {
        "id": "EZK9HWlhYFsl"
      }
    },
    {
      "cell_type": "code",
      "source": [
        "x=x.drop(x[['High','Adj Close']],axis=1)\n",
        "x.shape"
      ],
      "metadata": {
        "id": "T0BYQwMHYEc5",
        "colab": {
          "base_uri": "https://localhost:8080/"
        },
        "outputId": "585b7e6a-404f-4c37-b44d-488414f1e29b"
      },
      "execution_count": null,
      "outputs": [
        {
          "output_type": "execute_result",
          "data": {
            "text/plain": [
              "(366, 3)"
            ]
          },
          "metadata": {},
          "execution_count": 13
        }
      ]
    },
    {
      "cell_type": "markdown",
      "metadata": {
        "id": "bMfSJRo6Pi9j"
      },
      "source": [
        "##SPLITING OF DATA"
      ]
    },
    {
      "cell_type": "code",
      "metadata": {
        "id": "DK-9lbKLAwHh"
      },
      "source": [
        "x_train, x_test, y_train, y_test = train_test_split(x, y,test_size=0.2)"
      ],
      "execution_count": null,
      "outputs": []
    },
    {
      "cell_type": "code",
      "metadata": {
        "id": "SymjQxccAwLd"
      },
      "source": [
        "x_train, x_val, y_train, y_val = train_test_split(x_train, y_train, test_size=0.2, random_state=1)"
      ],
      "execution_count": null,
      "outputs": []
    },
    {
      "cell_type": "code",
      "metadata": {
        "id": "du1uHTZdKzBR",
        "colab": {
          "base_uri": "https://localhost:8080/"
        },
        "outputId": "c493ade5-08a4-4d17-b13d-06646ba22f6c"
      },
      "source": [
        "x_train.shape"
      ],
      "execution_count": null,
      "outputs": [
        {
          "output_type": "execute_result",
          "data": {
            "text/plain": [
              "(233, 3)"
            ]
          },
          "metadata": {},
          "execution_count": 16
        }
      ]
    },
    {
      "cell_type": "code",
      "metadata": {
        "id": "6ZND2Mb4Ky7f",
        "colab": {
          "base_uri": "https://localhost:8080/"
        },
        "outputId": "5e33b223-bc2e-43fb-b2a3-2fe3849fdcef"
      },
      "source": [
        "y_train.shape"
      ],
      "execution_count": null,
      "outputs": [
        {
          "output_type": "execute_result",
          "data": {
            "text/plain": [
              "(233, 1)"
            ]
          },
          "metadata": {},
          "execution_count": 17
        }
      ]
    },
    {
      "cell_type": "code",
      "metadata": {
        "id": "MNdReBpvKy4G",
        "colab": {
          "base_uri": "https://localhost:8080/"
        },
        "outputId": "5757786d-5226-46f9-e37e-9fdc155c7818"
      },
      "source": [
        "x_val.shape"
      ],
      "execution_count": null,
      "outputs": [
        {
          "output_type": "execute_result",
          "data": {
            "text/plain": [
              "(59, 3)"
            ]
          },
          "metadata": {},
          "execution_count": 18
        }
      ]
    },
    {
      "cell_type": "code",
      "metadata": {
        "id": "0RIE7bqhKy2c",
        "colab": {
          "base_uri": "https://localhost:8080/"
        },
        "outputId": "4eb50265-a143-4921-f035-19b1d6701abb"
      },
      "source": [
        "y_val.shape"
      ],
      "execution_count": null,
      "outputs": [
        {
          "output_type": "execute_result",
          "data": {
            "text/plain": [
              "(59, 1)"
            ]
          },
          "metadata": {},
          "execution_count": 19
        }
      ]
    },
    {
      "cell_type": "code",
      "metadata": {
        "id": "_DXq4z4dKym7",
        "colab": {
          "base_uri": "https://localhost:8080/"
        },
        "outputId": "410f7bf2-c63b-4405-c9dd-ea21a2d7ef81"
      },
      "source": [
        "x_test.shape"
      ],
      "execution_count": null,
      "outputs": [
        {
          "output_type": "execute_result",
          "data": {
            "text/plain": [
              "(74, 3)"
            ]
          },
          "metadata": {},
          "execution_count": 20
        }
      ]
    },
    {
      "cell_type": "code",
      "metadata": {
        "id": "0f3lKNwOSDzS",
        "colab": {
          "base_uri": "https://localhost:8080/"
        },
        "outputId": "aafe7579-3622-4328-8c77-565b25bcba59"
      },
      "source": [
        "y_test.shape"
      ],
      "execution_count": null,
      "outputs": [
        {
          "output_type": "execute_result",
          "data": {
            "text/plain": [
              "(74, 1)"
            ]
          },
          "metadata": {},
          "execution_count": 21
        }
      ]
    },
    {
      "cell_type": "markdown",
      "source": [
        "##SCALING OF DATA"
      ],
      "metadata": {
        "id": "Varg6PkJY7C8"
      }
    },
    {
      "cell_type": "code",
      "source": [
        "\n",
        "#Scalar transformation of target variable\n",
        "fscaler = MinMaxScaler()\n",
        "fscaler.fit(x_train)\n",
        "x_train= fscaler.transform(x_train)\n",
        "x_val= fscaler.transform(x_val)\n",
        "x_test= fscaler.transform(x_test)\n"
      ],
      "metadata": {
        "id": "-KAaUyS6O2sW"
      },
      "execution_count": null,
      "outputs": []
    },
    {
      "cell_type": "code",
      "source": [
        "#Scalar transformation of target variable\n",
        "scaler = MinMaxScaler()\n",
        "scaler.fit(y_train)\n",
        "y_train= scaler.transform(y_train)\n",
        "y_val= scaler.transform(y_val)\n",
        "y_test= scaler.transform(y_test)"
      ],
      "metadata": {
        "id": "yFVsTmRAHfji"
      },
      "execution_count": null,
      "outputs": []
    },
    {
      "cell_type": "markdown",
      "metadata": {
        "id": "p0Qj4tq9QF-a"
      },
      "source": [
        "##BUILDING MODEL"
      ]
    },
    {
      "cell_type": "code",
      "metadata": {
        "id": "pk8LznRpSPIa"
      },
      "source": [
        "from tensorflow.keras import Sequential\n",
        "from tensorflow.keras.layers import Dense, LSTM, Dropout"
      ],
      "execution_count": null,
      "outputs": []
    },
    {
      "cell_type": "code",
      "metadata": {
        "id": "Bo37HChkSPEQ"
      },
      "source": [
        "model = Sequential() \n",
        "model.add(LSTM(units = 50, activation = 'sigmoid', return_sequences = True,input_shape=(None,1) ))"
      ],
      "execution_count": null,
      "outputs": []
    },
    {
      "cell_type": "code",
      "metadata": {
        "id": "CWkhJSIGSPCi"
      },
      "source": [
        "model.add(Dropout(0.2)) \n",
        "model.add(LSTM(units = 60, activation = 'sigmoid', return_sequences = True))\n",
        "model.add(Dropout(0.3)) \n",
        "model.add(LSTM(units = 80, activation = 'sigmoid', return_sequences = True))\n",
        "model.add(Dropout(0.3)) \n",
        "model.add(LSTM(units = 120, activation = 'sigmoid'))\n",
        "model.add(Dropout(0.2)) \n",
        "model.add(Dense(units =1,activation='sigmoid'))\n"
      ],
      "execution_count": null,
      "outputs": []
    },
    {
      "cell_type": "code",
      "metadata": {
        "id": "yrAyRQieSbsW"
      },
      "source": [
        "model.compile(optimizer = 'adam', loss = 'mean_squared_error',metrics='mean_squared_error')"
      ],
      "execution_count": null,
      "outputs": []
    },
    {
      "cell_type": "code",
      "metadata": {
        "id": "7EgLIaWpSbq3",
        "colab": {
          "base_uri": "https://localhost:8080/"
        },
        "outputId": "0daed2b2-d00a-4f45-fb2e-b46b99a9e8ea"
      },
      "source": [
        "history=model.fit(x_train, y_train,validation_data=(x_val,y_val), epochs = 250,batch_size=80)"
      ],
      "execution_count": null,
      "outputs": [
        {
          "output_type": "stream",
          "name": "stdout",
          "text": [
            "Epoch 1/250\n",
            "3/3 [==============================] - 7s 400ms/step - loss: 0.0599 - mean_squared_error: 0.0599 - val_loss: 0.0849 - val_mean_squared_error: 0.0849\n",
            "Epoch 2/250\n",
            "3/3 [==============================] - 0s 36ms/step - loss: 0.0692 - mean_squared_error: 0.0692 - val_loss: 0.0760 - val_mean_squared_error: 0.0760\n",
            "Epoch 3/250\n",
            "3/3 [==============================] - 0s 45ms/step - loss: 0.0635 - mean_squared_error: 0.0635 - val_loss: 0.0715 - val_mean_squared_error: 0.0715\n",
            "Epoch 4/250\n",
            "3/3 [==============================] - 0s 36ms/step - loss: 0.0684 - mean_squared_error: 0.0684 - val_loss: 0.0730 - val_mean_squared_error: 0.0730\n",
            "Epoch 5/250\n",
            "3/3 [==============================] - 0s 35ms/step - loss: 0.0623 - mean_squared_error: 0.0623 - val_loss: 0.0786 - val_mean_squared_error: 0.0786\n",
            "Epoch 6/250\n",
            "3/3 [==============================] - 0s 37ms/step - loss: 0.0649 - mean_squared_error: 0.0649 - val_loss: 0.0802 - val_mean_squared_error: 0.0802\n",
            "Epoch 7/250\n",
            "3/3 [==============================] - 0s 41ms/step - loss: 0.0643 - mean_squared_error: 0.0643 - val_loss: 0.0756 - val_mean_squared_error: 0.0756\n",
            "Epoch 8/250\n",
            "3/3 [==============================] - 0s 35ms/step - loss: 0.0612 - mean_squared_error: 0.0612 - val_loss: 0.0738 - val_mean_squared_error: 0.0738\n",
            "Epoch 9/250\n",
            "3/3 [==============================] - 0s 33ms/step - loss: 0.0611 - mean_squared_error: 0.0611 - val_loss: 0.0734 - val_mean_squared_error: 0.0734\n",
            "Epoch 10/250\n",
            "3/3 [==============================] - 0s 32ms/step - loss: 0.0639 - mean_squared_error: 0.0639 - val_loss: 0.0744 - val_mean_squared_error: 0.0744\n",
            "Epoch 11/250\n",
            "3/3 [==============================] - 0s 33ms/step - loss: 0.0615 - mean_squared_error: 0.0615 - val_loss: 0.0755 - val_mean_squared_error: 0.0755\n",
            "Epoch 12/250\n",
            "3/3 [==============================] - 0s 36ms/step - loss: 0.0629 - mean_squared_error: 0.0629 - val_loss: 0.0755 - val_mean_squared_error: 0.0755\n",
            "Epoch 13/250\n",
            "3/3 [==============================] - 0s 36ms/step - loss: 0.0621 - mean_squared_error: 0.0621 - val_loss: 0.0749 - val_mean_squared_error: 0.0749\n",
            "Epoch 14/250\n",
            "3/3 [==============================] - 0s 34ms/step - loss: 0.0647 - mean_squared_error: 0.0647 - val_loss: 0.0748 - val_mean_squared_error: 0.0748\n",
            "Epoch 15/250\n",
            "3/3 [==============================] - 0s 35ms/step - loss: 0.0620 - mean_squared_error: 0.0620 - val_loss: 0.0755 - val_mean_squared_error: 0.0755\n",
            "Epoch 16/250\n",
            "3/3 [==============================] - 0s 34ms/step - loss: 0.0631 - mean_squared_error: 0.0631 - val_loss: 0.0763 - val_mean_squared_error: 0.0763\n",
            "Epoch 17/250\n",
            "3/3 [==============================] - 0s 34ms/step - loss: 0.0649 - mean_squared_error: 0.0649 - val_loss: 0.0763 - val_mean_squared_error: 0.0763\n",
            "Epoch 18/250\n",
            "3/3 [==============================] - 0s 37ms/step - loss: 0.0639 - mean_squared_error: 0.0639 - val_loss: 0.0760 - val_mean_squared_error: 0.0760\n",
            "Epoch 19/250\n",
            "3/3 [==============================] - 0s 44ms/step - loss: 0.0645 - mean_squared_error: 0.0645 - val_loss: 0.0751 - val_mean_squared_error: 0.0751\n",
            "Epoch 20/250\n",
            "3/3 [==============================] - 0s 37ms/step - loss: 0.0617 - mean_squared_error: 0.0617 - val_loss: 0.0742 - val_mean_squared_error: 0.0742\n",
            "Epoch 21/250\n",
            "3/3 [==============================] - 0s 35ms/step - loss: 0.0643 - mean_squared_error: 0.0643 - val_loss: 0.0742 - val_mean_squared_error: 0.0742\n",
            "Epoch 22/250\n",
            "3/3 [==============================] - 0s 35ms/step - loss: 0.0626 - mean_squared_error: 0.0626 - val_loss: 0.0755 - val_mean_squared_error: 0.0755\n",
            "Epoch 23/250\n",
            "3/3 [==============================] - 0s 38ms/step - loss: 0.0629 - mean_squared_error: 0.0629 - val_loss: 0.0771 - val_mean_squared_error: 0.0771\n",
            "Epoch 24/250\n",
            "3/3 [==============================] - 0s 37ms/step - loss: 0.0668 - mean_squared_error: 0.0668 - val_loss: 0.0773 - val_mean_squared_error: 0.0773\n",
            "Epoch 25/250\n",
            "3/3 [==============================] - 0s 36ms/step - loss: 0.0625 - mean_squared_error: 0.0625 - val_loss: 0.0750 - val_mean_squared_error: 0.0750\n",
            "Epoch 26/250\n",
            "3/3 [==============================] - 0s 36ms/step - loss: 0.0636 - mean_squared_error: 0.0636 - val_loss: 0.0735 - val_mean_squared_error: 0.0735\n",
            "Epoch 27/250\n",
            "3/3 [==============================] - 0s 34ms/step - loss: 0.0620 - mean_squared_error: 0.0620 - val_loss: 0.0747 - val_mean_squared_error: 0.0747\n",
            "Epoch 28/250\n",
            "3/3 [==============================] - 0s 35ms/step - loss: 0.0601 - mean_squared_error: 0.0601 - val_loss: 0.0775 - val_mean_squared_error: 0.0775\n",
            "Epoch 29/250\n",
            "3/3 [==============================] - 0s 34ms/step - loss: 0.0630 - mean_squared_error: 0.0630 - val_loss: 0.0777 - val_mean_squared_error: 0.0777\n",
            "Epoch 30/250\n",
            "3/3 [==============================] - 0s 41ms/step - loss: 0.0634 - mean_squared_error: 0.0634 - val_loss: 0.0754 - val_mean_squared_error: 0.0754\n",
            "Epoch 31/250\n",
            "3/3 [==============================] - 0s 35ms/step - loss: 0.0648 - mean_squared_error: 0.0648 - val_loss: 0.0745 - val_mean_squared_error: 0.0745\n",
            "Epoch 32/250\n",
            "3/3 [==============================] - 0s 32ms/step - loss: 0.0617 - mean_squared_error: 0.0617 - val_loss: 0.0741 - val_mean_squared_error: 0.0741\n",
            "Epoch 33/250\n",
            "3/3 [==============================] - 0s 35ms/step - loss: 0.0649 - mean_squared_error: 0.0649 - val_loss: 0.0748 - val_mean_squared_error: 0.0748\n",
            "Epoch 34/250\n",
            "3/3 [==============================] - 0s 34ms/step - loss: 0.0645 - mean_squared_error: 0.0645 - val_loss: 0.0761 - val_mean_squared_error: 0.0761\n",
            "Epoch 35/250\n",
            "3/3 [==============================] - 0s 33ms/step - loss: 0.0638 - mean_squared_error: 0.0638 - val_loss: 0.0760 - val_mean_squared_error: 0.0760\n",
            "Epoch 36/250\n",
            "3/3 [==============================] - 0s 33ms/step - loss: 0.0627 - mean_squared_error: 0.0627 - val_loss: 0.0761 - val_mean_squared_error: 0.0761\n",
            "Epoch 37/250\n",
            "3/3 [==============================] - 0s 36ms/step - loss: 0.0620 - mean_squared_error: 0.0620 - val_loss: 0.0747 - val_mean_squared_error: 0.0747\n",
            "Epoch 38/250\n",
            "3/3 [==============================] - 0s 46ms/step - loss: 0.0619 - mean_squared_error: 0.0619 - val_loss: 0.0736 - val_mean_squared_error: 0.0736\n",
            "Epoch 39/250\n",
            "3/3 [==============================] - 0s 36ms/step - loss: 0.0645 - mean_squared_error: 0.0645 - val_loss: 0.0745 - val_mean_squared_error: 0.0745\n",
            "Epoch 40/250\n",
            "3/3 [==============================] - 0s 36ms/step - loss: 0.0635 - mean_squared_error: 0.0635 - val_loss: 0.0762 - val_mean_squared_error: 0.0762\n",
            "Epoch 41/250\n",
            "3/3 [==============================] - 0s 108ms/step - loss: 0.0616 - mean_squared_error: 0.0616 - val_loss: 0.0767 - val_mean_squared_error: 0.0767\n",
            "Epoch 42/250\n",
            "3/3 [==============================] - 0s 116ms/step - loss: 0.0613 - mean_squared_error: 0.0613 - val_loss: 0.0759 - val_mean_squared_error: 0.0759\n",
            "Epoch 43/250\n",
            "3/3 [==============================] - 0s 93ms/step - loss: 0.0607 - mean_squared_error: 0.0607 - val_loss: 0.0747 - val_mean_squared_error: 0.0747\n",
            "Epoch 44/250\n",
            "3/3 [==============================] - 0s 86ms/step - loss: 0.0630 - mean_squared_error: 0.0630 - val_loss: 0.0734 - val_mean_squared_error: 0.0734\n",
            "Epoch 45/250\n",
            "3/3 [==============================] - 0s 34ms/step - loss: 0.0627 - mean_squared_error: 0.0627 - val_loss: 0.0742 - val_mean_squared_error: 0.0742\n",
            "Epoch 46/250\n",
            "3/3 [==============================] - 0s 44ms/step - loss: 0.0636 - mean_squared_error: 0.0636 - val_loss: 0.0755 - val_mean_squared_error: 0.0755\n",
            "Epoch 47/250\n",
            "3/3 [==============================] - 0s 32ms/step - loss: 0.0633 - mean_squared_error: 0.0633 - val_loss: 0.0758 - val_mean_squared_error: 0.0758\n",
            "Epoch 48/250\n",
            "3/3 [==============================] - 0s 37ms/step - loss: 0.0626 - mean_squared_error: 0.0626 - val_loss: 0.0755 - val_mean_squared_error: 0.0755\n",
            "Epoch 49/250\n",
            "3/3 [==============================] - 0s 36ms/step - loss: 0.0608 - mean_squared_error: 0.0608 - val_loss: 0.0744 - val_mean_squared_error: 0.0744\n",
            "Epoch 50/250\n",
            "3/3 [==============================] - 0s 36ms/step - loss: 0.0636 - mean_squared_error: 0.0636 - val_loss: 0.0746 - val_mean_squared_error: 0.0746\n",
            "Epoch 51/250\n",
            "3/3 [==============================] - 0s 35ms/step - loss: 0.0607 - mean_squared_error: 0.0607 - val_loss: 0.0749 - val_mean_squared_error: 0.0749\n",
            "Epoch 52/250\n",
            "3/3 [==============================] - 0s 38ms/step - loss: 0.0612 - mean_squared_error: 0.0612 - val_loss: 0.0752 - val_mean_squared_error: 0.0752\n",
            "Epoch 53/250\n",
            "3/3 [==============================] - 0s 35ms/step - loss: 0.0649 - mean_squared_error: 0.0649 - val_loss: 0.0750 - val_mean_squared_error: 0.0750\n",
            "Epoch 54/250\n",
            "3/3 [==============================] - 0s 35ms/step - loss: 0.0622 - mean_squared_error: 0.0622 - val_loss: 0.0759 - val_mean_squared_error: 0.0759\n",
            "Epoch 55/250\n",
            "3/3 [==============================] - 0s 34ms/step - loss: 0.0646 - mean_squared_error: 0.0646 - val_loss: 0.0762 - val_mean_squared_error: 0.0762\n",
            "Epoch 56/250\n",
            "3/3 [==============================] - 0s 46ms/step - loss: 0.0628 - mean_squared_error: 0.0628 - val_loss: 0.0753 - val_mean_squared_error: 0.0753\n",
            "Epoch 57/250\n",
            "3/3 [==============================] - 0s 36ms/step - loss: 0.0616 - mean_squared_error: 0.0616 - val_loss: 0.0748 - val_mean_squared_error: 0.0748\n",
            "Epoch 58/250\n",
            "3/3 [==============================] - 0s 36ms/step - loss: 0.0611 - mean_squared_error: 0.0611 - val_loss: 0.0749 - val_mean_squared_error: 0.0749\n",
            "Epoch 59/250\n",
            "3/3 [==============================] - 0s 39ms/step - loss: 0.0615 - mean_squared_error: 0.0615 - val_loss: 0.0746 - val_mean_squared_error: 0.0746\n",
            "Epoch 60/250\n",
            "3/3 [==============================] - 0s 38ms/step - loss: 0.0614 - mean_squared_error: 0.0614 - val_loss: 0.0748 - val_mean_squared_error: 0.0748\n",
            "Epoch 61/250\n",
            "3/3 [==============================] - 0s 38ms/step - loss: 0.0621 - mean_squared_error: 0.0621 - val_loss: 0.0753 - val_mean_squared_error: 0.0753\n",
            "Epoch 62/250\n",
            "3/3 [==============================] - 0s 35ms/step - loss: 0.0615 - mean_squared_error: 0.0615 - val_loss: 0.0758 - val_mean_squared_error: 0.0758\n",
            "Epoch 63/250\n",
            "3/3 [==============================] - 0s 47ms/step - loss: 0.0623 - mean_squared_error: 0.0623 - val_loss: 0.0748 - val_mean_squared_error: 0.0748\n",
            "Epoch 64/250\n",
            "3/3 [==============================] - 0s 36ms/step - loss: 0.0620 - mean_squared_error: 0.0620 - val_loss: 0.0746 - val_mean_squared_error: 0.0746\n",
            "Epoch 65/250\n",
            "3/3 [==============================] - 0s 47ms/step - loss: 0.0618 - mean_squared_error: 0.0618 - val_loss: 0.0743 - val_mean_squared_error: 0.0743\n",
            "Epoch 66/250\n",
            "3/3 [==============================] - 0s 39ms/step - loss: 0.0617 - mean_squared_error: 0.0617 - val_loss: 0.0745 - val_mean_squared_error: 0.0745\n",
            "Epoch 67/250\n",
            "3/3 [==============================] - 0s 38ms/step - loss: 0.0617 - mean_squared_error: 0.0617 - val_loss: 0.0742 - val_mean_squared_error: 0.0742\n",
            "Epoch 68/250\n",
            "3/3 [==============================] - 0s 38ms/step - loss: 0.0613 - mean_squared_error: 0.0613 - val_loss: 0.0749 - val_mean_squared_error: 0.0749\n",
            "Epoch 69/250\n",
            "3/3 [==============================] - 0s 36ms/step - loss: 0.0618 - mean_squared_error: 0.0618 - val_loss: 0.0759 - val_mean_squared_error: 0.0759\n",
            "Epoch 70/250\n",
            "3/3 [==============================] - 0s 35ms/step - loss: 0.0625 - mean_squared_error: 0.0625 - val_loss: 0.0769 - val_mean_squared_error: 0.0769\n",
            "Epoch 71/250\n",
            "3/3 [==============================] - 0s 39ms/step - loss: 0.0631 - mean_squared_error: 0.0631 - val_loss: 0.0753 - val_mean_squared_error: 0.0753\n",
            "Epoch 72/250\n",
            "3/3 [==============================] - 0s 35ms/step - loss: 0.0628 - mean_squared_error: 0.0628 - val_loss: 0.0751 - val_mean_squared_error: 0.0751\n",
            "Epoch 73/250\n",
            "3/3 [==============================] - 0s 38ms/step - loss: 0.0625 - mean_squared_error: 0.0625 - val_loss: 0.0741 - val_mean_squared_error: 0.0741\n",
            "Epoch 74/250\n",
            "3/3 [==============================] - 0s 39ms/step - loss: 0.0635 - mean_squared_error: 0.0635 - val_loss: 0.0746 - val_mean_squared_error: 0.0746\n",
            "Epoch 75/250\n",
            "3/3 [==============================] - 0s 38ms/step - loss: 0.0613 - mean_squared_error: 0.0613 - val_loss: 0.0749 - val_mean_squared_error: 0.0749\n",
            "Epoch 76/250\n",
            "3/3 [==============================] - 0s 38ms/step - loss: 0.0607 - mean_squared_error: 0.0607 - val_loss: 0.0762 - val_mean_squared_error: 0.0762\n",
            "Epoch 77/250\n",
            "3/3 [==============================] - 0s 36ms/step - loss: 0.0616 - mean_squared_error: 0.0616 - val_loss: 0.0758 - val_mean_squared_error: 0.0758\n",
            "Epoch 78/250\n",
            "3/3 [==============================] - 0s 36ms/step - loss: 0.0630 - mean_squared_error: 0.0630 - val_loss: 0.0744 - val_mean_squared_error: 0.0744\n",
            "Epoch 79/250\n",
            "3/3 [==============================] - 0s 35ms/step - loss: 0.0630 - mean_squared_error: 0.0630 - val_loss: 0.0747 - val_mean_squared_error: 0.0747\n",
            "Epoch 80/250\n",
            "3/3 [==============================] - 0s 44ms/step - loss: 0.0613 - mean_squared_error: 0.0613 - val_loss: 0.0745 - val_mean_squared_error: 0.0745\n",
            "Epoch 81/250\n",
            "3/3 [==============================] - 0s 37ms/step - loss: 0.0617 - mean_squared_error: 0.0617 - val_loss: 0.0752 - val_mean_squared_error: 0.0752\n",
            "Epoch 82/250\n",
            "3/3 [==============================] - 0s 37ms/step - loss: 0.0607 - mean_squared_error: 0.0607 - val_loss: 0.0762 - val_mean_squared_error: 0.0762\n",
            "Epoch 83/250\n",
            "3/3 [==============================] - 0s 46ms/step - loss: 0.0619 - mean_squared_error: 0.0619 - val_loss: 0.0764 - val_mean_squared_error: 0.0764\n",
            "Epoch 84/250\n",
            "3/3 [==============================] - 0s 47ms/step - loss: 0.0615 - mean_squared_error: 0.0615 - val_loss: 0.0754 - val_mean_squared_error: 0.0754\n",
            "Epoch 85/250\n",
            "3/3 [==============================] - 0s 37ms/step - loss: 0.0633 - mean_squared_error: 0.0633 - val_loss: 0.0742 - val_mean_squared_error: 0.0742\n",
            "Epoch 86/250\n",
            "3/3 [==============================] - 0s 40ms/step - loss: 0.0616 - mean_squared_error: 0.0616 - val_loss: 0.0739 - val_mean_squared_error: 0.0739\n",
            "Epoch 87/250\n",
            "3/3 [==============================] - 0s 45ms/step - loss: 0.0609 - mean_squared_error: 0.0609 - val_loss: 0.0749 - val_mean_squared_error: 0.0749\n",
            "Epoch 88/250\n",
            "3/3 [==============================] - 0s 33ms/step - loss: 0.0622 - mean_squared_error: 0.0622 - val_loss: 0.0757 - val_mean_squared_error: 0.0757\n",
            "Epoch 89/250\n",
            "3/3 [==============================] - 0s 33ms/step - loss: 0.0617 - mean_squared_error: 0.0617 - val_loss: 0.0756 - val_mean_squared_error: 0.0756\n",
            "Epoch 90/250\n",
            "3/3 [==============================] - 0s 34ms/step - loss: 0.0620 - mean_squared_error: 0.0620 - val_loss: 0.0748 - val_mean_squared_error: 0.0748\n",
            "Epoch 91/250\n",
            "3/3 [==============================] - 0s 34ms/step - loss: 0.0632 - mean_squared_error: 0.0632 - val_loss: 0.0752 - val_mean_squared_error: 0.0752\n",
            "Epoch 92/250\n",
            "3/3 [==============================] - 0s 36ms/step - loss: 0.0620 - mean_squared_error: 0.0620 - val_loss: 0.0750 - val_mean_squared_error: 0.0750\n",
            "Epoch 93/250\n",
            "3/3 [==============================] - 0s 43ms/step - loss: 0.0614 - mean_squared_error: 0.0614 - val_loss: 0.0750 - val_mean_squared_error: 0.0750\n",
            "Epoch 94/250\n",
            "3/3 [==============================] - 0s 35ms/step - loss: 0.0626 - mean_squared_error: 0.0626 - val_loss: 0.0749 - val_mean_squared_error: 0.0749\n",
            "Epoch 95/250\n",
            "3/3 [==============================] - 0s 32ms/step - loss: 0.0615 - mean_squared_error: 0.0615 - val_loss: 0.0749 - val_mean_squared_error: 0.0749\n",
            "Epoch 96/250\n",
            "3/3 [==============================] - 0s 34ms/step - loss: 0.0603 - mean_squared_error: 0.0603 - val_loss: 0.0748 - val_mean_squared_error: 0.0748\n",
            "Epoch 97/250\n",
            "3/3 [==============================] - 0s 38ms/step - loss: 0.0628 - mean_squared_error: 0.0628 - val_loss: 0.0757 - val_mean_squared_error: 0.0757\n",
            "Epoch 98/250\n",
            "3/3 [==============================] - 0s 39ms/step - loss: 0.0620 - mean_squared_error: 0.0620 - val_loss: 0.0753 - val_mean_squared_error: 0.0753\n",
            "Epoch 99/250\n",
            "3/3 [==============================] - 0s 39ms/step - loss: 0.0625 - mean_squared_error: 0.0625 - val_loss: 0.0751 - val_mean_squared_error: 0.0751\n",
            "Epoch 100/250\n",
            "3/3 [==============================] - 0s 36ms/step - loss: 0.0622 - mean_squared_error: 0.0622 - val_loss: 0.0753 - val_mean_squared_error: 0.0753\n",
            "Epoch 101/250\n",
            "3/3 [==============================] - 0s 40ms/step - loss: 0.0613 - mean_squared_error: 0.0613 - val_loss: 0.0752 - val_mean_squared_error: 0.0752\n",
            "Epoch 102/250\n",
            "3/3 [==============================] - 0s 37ms/step - loss: 0.0613 - mean_squared_error: 0.0613 - val_loss: 0.0749 - val_mean_squared_error: 0.0749\n",
            "Epoch 103/250\n",
            "3/3 [==============================] - 0s 36ms/step - loss: 0.0614 - mean_squared_error: 0.0614 - val_loss: 0.0756 - val_mean_squared_error: 0.0756\n",
            "Epoch 104/250\n",
            "3/3 [==============================] - 0s 45ms/step - loss: 0.0621 - mean_squared_error: 0.0621 - val_loss: 0.0751 - val_mean_squared_error: 0.0751\n",
            "Epoch 105/250\n",
            "3/3 [==============================] - 0s 39ms/step - loss: 0.0613 - mean_squared_error: 0.0613 - val_loss: 0.0746 - val_mean_squared_error: 0.0746\n",
            "Epoch 106/250\n",
            "3/3 [==============================] - 0s 43ms/step - loss: 0.0609 - mean_squared_error: 0.0609 - val_loss: 0.0750 - val_mean_squared_error: 0.0750\n",
            "Epoch 107/250\n",
            "3/3 [==============================] - 0s 49ms/step - loss: 0.0628 - mean_squared_error: 0.0628 - val_loss: 0.0751 - val_mean_squared_error: 0.0751\n",
            "Epoch 108/250\n",
            "3/3 [==============================] - 0s 39ms/step - loss: 0.0628 - mean_squared_error: 0.0628 - val_loss: 0.0753 - val_mean_squared_error: 0.0753\n",
            "Epoch 109/250\n",
            "3/3 [==============================] - 0s 45ms/step - loss: 0.0598 - mean_squared_error: 0.0598 - val_loss: 0.0751 - val_mean_squared_error: 0.0751\n",
            "Epoch 110/250\n",
            "3/3 [==============================] - 0s 38ms/step - loss: 0.0607 - mean_squared_error: 0.0607 - val_loss: 0.0754 - val_mean_squared_error: 0.0754\n",
            "Epoch 111/250\n",
            "3/3 [==============================] - 0s 51ms/step - loss: 0.0620 - mean_squared_error: 0.0620 - val_loss: 0.0748 - val_mean_squared_error: 0.0748\n",
            "Epoch 112/250\n",
            "3/3 [==============================] - 0s 38ms/step - loss: 0.0619 - mean_squared_error: 0.0619 - val_loss: 0.0747 - val_mean_squared_error: 0.0747\n",
            "Epoch 113/250\n",
            "3/3 [==============================] - 0s 39ms/step - loss: 0.0620 - mean_squared_error: 0.0620 - val_loss: 0.0756 - val_mean_squared_error: 0.0756\n",
            "Epoch 114/250\n",
            "3/3 [==============================] - 0s 43ms/step - loss: 0.0611 - mean_squared_error: 0.0611 - val_loss: 0.0755 - val_mean_squared_error: 0.0755\n",
            "Epoch 115/250\n",
            "3/3 [==============================] - 0s 36ms/step - loss: 0.0614 - mean_squared_error: 0.0614 - val_loss: 0.0750 - val_mean_squared_error: 0.0750\n",
            "Epoch 116/250\n",
            "3/3 [==============================] - 0s 37ms/step - loss: 0.0618 - mean_squared_error: 0.0618 - val_loss: 0.0750 - val_mean_squared_error: 0.0750\n",
            "Epoch 117/250\n",
            "3/3 [==============================] - 0s 36ms/step - loss: 0.0607 - mean_squared_error: 0.0607 - val_loss: 0.0749 - val_mean_squared_error: 0.0749\n",
            "Epoch 118/250\n",
            "3/3 [==============================] - 0s 37ms/step - loss: 0.0611 - mean_squared_error: 0.0611 - val_loss: 0.0747 - val_mean_squared_error: 0.0747\n",
            "Epoch 119/250\n",
            "3/3 [==============================] - 0s 37ms/step - loss: 0.0614 - mean_squared_error: 0.0614 - val_loss: 0.0750 - val_mean_squared_error: 0.0750\n",
            "Epoch 120/250\n",
            "3/3 [==============================] - 0s 42ms/step - loss: 0.0610 - mean_squared_error: 0.0610 - val_loss: 0.0749 - val_mean_squared_error: 0.0749\n",
            "Epoch 121/250\n",
            "3/3 [==============================] - 0s 37ms/step - loss: 0.0621 - mean_squared_error: 0.0621 - val_loss: 0.0754 - val_mean_squared_error: 0.0754\n",
            "Epoch 122/250\n",
            "3/3 [==============================] - 0s 36ms/step - loss: 0.0612 - mean_squared_error: 0.0612 - val_loss: 0.0753 - val_mean_squared_error: 0.0753\n",
            "Epoch 123/250\n",
            "3/3 [==============================] - 0s 45ms/step - loss: 0.0615 - mean_squared_error: 0.0615 - val_loss: 0.0750 - val_mean_squared_error: 0.0750\n",
            "Epoch 124/250\n",
            "3/3 [==============================] - 0s 36ms/step - loss: 0.0607 - mean_squared_error: 0.0607 - val_loss: 0.0750 - val_mean_squared_error: 0.0750\n",
            "Epoch 125/250\n",
            "3/3 [==============================] - 0s 42ms/step - loss: 0.0614 - mean_squared_error: 0.0614 - val_loss: 0.0746 - val_mean_squared_error: 0.0746\n",
            "Epoch 126/250\n",
            "3/3 [==============================] - 0s 45ms/step - loss: 0.0614 - mean_squared_error: 0.0614 - val_loss: 0.0743 - val_mean_squared_error: 0.0743\n",
            "Epoch 127/250\n",
            "3/3 [==============================] - 0s 39ms/step - loss: 0.0623 - mean_squared_error: 0.0623 - val_loss: 0.0741 - val_mean_squared_error: 0.0741\n",
            "Epoch 128/250\n",
            "3/3 [==============================] - 0s 35ms/step - loss: 0.0610 - mean_squared_error: 0.0610 - val_loss: 0.0747 - val_mean_squared_error: 0.0747\n",
            "Epoch 129/250\n",
            "3/3 [==============================] - 0s 36ms/step - loss: 0.0620 - mean_squared_error: 0.0620 - val_loss: 0.0761 - val_mean_squared_error: 0.0761\n",
            "Epoch 130/250\n",
            "3/3 [==============================] - 0s 37ms/step - loss: 0.0612 - mean_squared_error: 0.0612 - val_loss: 0.0758 - val_mean_squared_error: 0.0758\n",
            "Epoch 131/250\n",
            "3/3 [==============================] - 0s 37ms/step - loss: 0.0610 - mean_squared_error: 0.0610 - val_loss: 0.0752 - val_mean_squared_error: 0.0752\n",
            "Epoch 132/250\n",
            "3/3 [==============================] - 0s 37ms/step - loss: 0.0614 - mean_squared_error: 0.0614 - val_loss: 0.0748 - val_mean_squared_error: 0.0748\n",
            "Epoch 133/250\n",
            "3/3 [==============================] - 0s 38ms/step - loss: 0.0603 - mean_squared_error: 0.0603 - val_loss: 0.0745 - val_mean_squared_error: 0.0745\n",
            "Epoch 134/250\n",
            "3/3 [==============================] - 0s 33ms/step - loss: 0.0623 - mean_squared_error: 0.0623 - val_loss: 0.0741 - val_mean_squared_error: 0.0741\n",
            "Epoch 135/250\n",
            "3/3 [==============================] - 0s 36ms/step - loss: 0.0607 - mean_squared_error: 0.0607 - val_loss: 0.0748 - val_mean_squared_error: 0.0748\n",
            "Epoch 136/250\n",
            "3/3 [==============================] - 0s 34ms/step - loss: 0.0609 - mean_squared_error: 0.0609 - val_loss: 0.0752 - val_mean_squared_error: 0.0752\n",
            "Epoch 137/250\n",
            "3/3 [==============================] - 0s 38ms/step - loss: 0.0611 - mean_squared_error: 0.0611 - val_loss: 0.0749 - val_mean_squared_error: 0.0749\n",
            "Epoch 138/250\n",
            "3/3 [==============================] - 0s 35ms/step - loss: 0.0620 - mean_squared_error: 0.0620 - val_loss: 0.0754 - val_mean_squared_error: 0.0754\n",
            "Epoch 139/250\n",
            "3/3 [==============================] - 0s 32ms/step - loss: 0.0614 - mean_squared_error: 0.0614 - val_loss: 0.0751 - val_mean_squared_error: 0.0751\n",
            "Epoch 140/250\n",
            "3/3 [==============================] - 0s 43ms/step - loss: 0.0612 - mean_squared_error: 0.0612 - val_loss: 0.0746 - val_mean_squared_error: 0.0746\n",
            "Epoch 141/250\n",
            "3/3 [==============================] - 0s 34ms/step - loss: 0.0612 - mean_squared_error: 0.0612 - val_loss: 0.0741 - val_mean_squared_error: 0.0741\n",
            "Epoch 142/250\n",
            "3/3 [==============================] - 0s 34ms/step - loss: 0.0618 - mean_squared_error: 0.0618 - val_loss: 0.0747 - val_mean_squared_error: 0.0747\n",
            "Epoch 143/250\n",
            "3/3 [==============================] - 0s 33ms/step - loss: 0.0611 - mean_squared_error: 0.0611 - val_loss: 0.0746 - val_mean_squared_error: 0.0746\n",
            "Epoch 144/250\n",
            "3/3 [==============================] - 0s 33ms/step - loss: 0.0600 - mean_squared_error: 0.0600 - val_loss: 0.0755 - val_mean_squared_error: 0.0755\n",
            "Epoch 145/250\n",
            "3/3 [==============================] - 0s 36ms/step - loss: 0.0616 - mean_squared_error: 0.0616 - val_loss: 0.0760 - val_mean_squared_error: 0.0760\n",
            "Epoch 146/250\n",
            "3/3 [==============================] - 0s 35ms/step - loss: 0.0609 - mean_squared_error: 0.0609 - val_loss: 0.0761 - val_mean_squared_error: 0.0761\n",
            "Epoch 147/250\n",
            "3/3 [==============================] - 0s 33ms/step - loss: 0.0611 - mean_squared_error: 0.0611 - val_loss: 0.0751 - val_mean_squared_error: 0.0751\n",
            "Epoch 148/250\n",
            "3/3 [==============================] - 0s 33ms/step - loss: 0.0622 - mean_squared_error: 0.0622 - val_loss: 0.0748 - val_mean_squared_error: 0.0748\n",
            "Epoch 149/250\n",
            "3/3 [==============================] - 0s 33ms/step - loss: 0.0619 - mean_squared_error: 0.0619 - val_loss: 0.0748 - val_mean_squared_error: 0.0748\n",
            "Epoch 150/250\n",
            "3/3 [==============================] - 0s 36ms/step - loss: 0.0610 - mean_squared_error: 0.0610 - val_loss: 0.0743 - val_mean_squared_error: 0.0743\n",
            "Epoch 151/250\n",
            "3/3 [==============================] - 0s 32ms/step - loss: 0.0626 - mean_squared_error: 0.0626 - val_loss: 0.0743 - val_mean_squared_error: 0.0743\n",
            "Epoch 152/250\n",
            "3/3 [==============================] - 0s 34ms/step - loss: 0.0607 - mean_squared_error: 0.0607 - val_loss: 0.0751 - val_mean_squared_error: 0.0751\n",
            "Epoch 153/250\n",
            "3/3 [==============================] - 0s 37ms/step - loss: 0.0606 - mean_squared_error: 0.0606 - val_loss: 0.0755 - val_mean_squared_error: 0.0755\n",
            "Epoch 154/250\n",
            "3/3 [==============================] - 0s 35ms/step - loss: 0.0617 - mean_squared_error: 0.0617 - val_loss: 0.0756 - val_mean_squared_error: 0.0756\n",
            "Epoch 155/250\n",
            "3/3 [==============================] - 0s 37ms/step - loss: 0.0594 - mean_squared_error: 0.0594 - val_loss: 0.0752 - val_mean_squared_error: 0.0752\n",
            "Epoch 156/250\n",
            "3/3 [==============================] - 0s 37ms/step - loss: 0.0613 - mean_squared_error: 0.0613 - val_loss: 0.0747 - val_mean_squared_error: 0.0747\n",
            "Epoch 157/250\n",
            "3/3 [==============================] - 0s 35ms/step - loss: 0.0614 - mean_squared_error: 0.0614 - val_loss: 0.0745 - val_mean_squared_error: 0.0745\n",
            "Epoch 158/250\n",
            "3/3 [==============================] - 0s 33ms/step - loss: 0.0606 - mean_squared_error: 0.0606 - val_loss: 0.0747 - val_mean_squared_error: 0.0747\n",
            "Epoch 159/250\n",
            "3/3 [==============================] - 0s 34ms/step - loss: 0.0620 - mean_squared_error: 0.0620 - val_loss: 0.0752 - val_mean_squared_error: 0.0752\n",
            "Epoch 160/250\n",
            "3/3 [==============================] - 0s 42ms/step - loss: 0.0623 - mean_squared_error: 0.0623 - val_loss: 0.0752 - val_mean_squared_error: 0.0752\n",
            "Epoch 161/250\n",
            "3/3 [==============================] - 0s 34ms/step - loss: 0.0625 - mean_squared_error: 0.0625 - val_loss: 0.0749 - val_mean_squared_error: 0.0749\n",
            "Epoch 162/250\n",
            "3/3 [==============================] - 0s 34ms/step - loss: 0.0618 - mean_squared_error: 0.0618 - val_loss: 0.0746 - val_mean_squared_error: 0.0746\n",
            "Epoch 163/250\n",
            "3/3 [==============================] - 0s 34ms/step - loss: 0.0616 - mean_squared_error: 0.0616 - val_loss: 0.0746 - val_mean_squared_error: 0.0746\n",
            "Epoch 164/250\n",
            "3/3 [==============================] - 0s 34ms/step - loss: 0.0613 - mean_squared_error: 0.0613 - val_loss: 0.0746 - val_mean_squared_error: 0.0746\n",
            "Epoch 165/250\n",
            "3/3 [==============================] - 0s 36ms/step - loss: 0.0598 - mean_squared_error: 0.0598 - val_loss: 0.0745 - val_mean_squared_error: 0.0745\n",
            "Epoch 166/250\n",
            "3/3 [==============================] - 0s 35ms/step - loss: 0.0614 - mean_squared_error: 0.0614 - val_loss: 0.0747 - val_mean_squared_error: 0.0747\n",
            "Epoch 167/250\n",
            "3/3 [==============================] - 0s 35ms/step - loss: 0.0618 - mean_squared_error: 0.0618 - val_loss: 0.0751 - val_mean_squared_error: 0.0751\n",
            "Epoch 168/250\n",
            "3/3 [==============================] - 0s 36ms/step - loss: 0.0604 - mean_squared_error: 0.0604 - val_loss: 0.0750 - val_mean_squared_error: 0.0750\n",
            "Epoch 169/250\n",
            "3/3 [==============================] - 0s 34ms/step - loss: 0.0608 - mean_squared_error: 0.0608 - val_loss: 0.0746 - val_mean_squared_error: 0.0746\n",
            "Epoch 170/250\n",
            "3/3 [==============================] - 0s 40ms/step - loss: 0.0622 - mean_squared_error: 0.0622 - val_loss: 0.0743 - val_mean_squared_error: 0.0743\n",
            "Epoch 171/250\n",
            "3/3 [==============================] - 0s 36ms/step - loss: 0.0603 - mean_squared_error: 0.0603 - val_loss: 0.0741 - val_mean_squared_error: 0.0741\n",
            "Epoch 172/250\n",
            "3/3 [==============================] - 0s 36ms/step - loss: 0.0608 - mean_squared_error: 0.0608 - val_loss: 0.0743 - val_mean_squared_error: 0.0743\n",
            "Epoch 173/250\n",
            "3/3 [==============================] - 0s 37ms/step - loss: 0.0614 - mean_squared_error: 0.0614 - val_loss: 0.0748 - val_mean_squared_error: 0.0748\n",
            "Epoch 174/250\n",
            "3/3 [==============================] - 0s 39ms/step - loss: 0.0602 - mean_squared_error: 0.0602 - val_loss: 0.0747 - val_mean_squared_error: 0.0747\n",
            "Epoch 175/250\n",
            "3/3 [==============================] - 0s 37ms/step - loss: 0.0601 - mean_squared_error: 0.0601 - val_loss: 0.0741 - val_mean_squared_error: 0.0741\n",
            "Epoch 176/250\n",
            "3/3 [==============================] - 0s 36ms/step - loss: 0.0622 - mean_squared_error: 0.0622 - val_loss: 0.0743 - val_mean_squared_error: 0.0743\n",
            "Epoch 177/250\n",
            "3/3 [==============================] - 0s 37ms/step - loss: 0.0608 - mean_squared_error: 0.0608 - val_loss: 0.0732 - val_mean_squared_error: 0.0732\n",
            "Epoch 178/250\n",
            "3/3 [==============================] - 0s 39ms/step - loss: 0.0600 - mean_squared_error: 0.0600 - val_loss: 0.0729 - val_mean_squared_error: 0.0729\n",
            "Epoch 179/250\n",
            "3/3 [==============================] - 0s 42ms/step - loss: 0.0599 - mean_squared_error: 0.0599 - val_loss: 0.0723 - val_mean_squared_error: 0.0723\n",
            "Epoch 180/250\n",
            "3/3 [==============================] - 0s 38ms/step - loss: 0.0593 - mean_squared_error: 0.0593 - val_loss: 0.0716 - val_mean_squared_error: 0.0716\n",
            "Epoch 181/250\n",
            "3/3 [==============================] - 0s 36ms/step - loss: 0.0583 - mean_squared_error: 0.0583 - val_loss: 0.0700 - val_mean_squared_error: 0.0700\n",
            "Epoch 182/250\n",
            "3/3 [==============================] - 0s 45ms/step - loss: 0.0574 - mean_squared_error: 0.0574 - val_loss: 0.0681 - val_mean_squared_error: 0.0681\n",
            "Epoch 183/250\n",
            "3/3 [==============================] - 0s 36ms/step - loss: 0.0557 - mean_squared_error: 0.0557 - val_loss: 0.0652 - val_mean_squared_error: 0.0652\n",
            "Epoch 184/250\n",
            "3/3 [==============================] - 0s 34ms/step - loss: 0.0527 - mean_squared_error: 0.0527 - val_loss: 0.0607 - val_mean_squared_error: 0.0607\n",
            "Epoch 185/250\n",
            "3/3 [==============================] - 0s 32ms/step - loss: 0.0489 - mean_squared_error: 0.0489 - val_loss: 0.0542 - val_mean_squared_error: 0.0542\n",
            "Epoch 186/250\n",
            "3/3 [==============================] - 0s 33ms/step - loss: 0.0414 - mean_squared_error: 0.0414 - val_loss: 0.0459 - val_mean_squared_error: 0.0459\n",
            "Epoch 187/250\n",
            "3/3 [==============================] - 0s 33ms/step - loss: 0.0331 - mean_squared_error: 0.0331 - val_loss: 0.0350 - val_mean_squared_error: 0.0350\n",
            "Epoch 188/250\n",
            "3/3 [==============================] - 0s 34ms/step - loss: 0.0247 - mean_squared_error: 0.0247 - val_loss: 0.0248 - val_mean_squared_error: 0.0248\n",
            "Epoch 189/250\n",
            "3/3 [==============================] - 0s 37ms/step - loss: 0.0175 - mean_squared_error: 0.0175 - val_loss: 0.0161 - val_mean_squared_error: 0.0161\n",
            "Epoch 190/250\n",
            "3/3 [==============================] - 0s 38ms/step - loss: 0.0130 - mean_squared_error: 0.0130 - val_loss: 0.0120 - val_mean_squared_error: 0.0120\n",
            "Epoch 191/250\n",
            "3/3 [==============================] - 0s 37ms/step - loss: 0.0117 - mean_squared_error: 0.0117 - val_loss: 0.0116 - val_mean_squared_error: 0.0116\n",
            "Epoch 192/250\n",
            "3/3 [==============================] - 0s 34ms/step - loss: 0.0109 - mean_squared_error: 0.0109 - val_loss: 0.0125 - val_mean_squared_error: 0.0125\n",
            "Epoch 193/250\n",
            "3/3 [==============================] - 0s 35ms/step - loss: 0.0101 - mean_squared_error: 0.0101 - val_loss: 0.0122 - val_mean_squared_error: 0.0122\n",
            "Epoch 194/250\n",
            "3/3 [==============================] - 0s 35ms/step - loss: 0.0118 - mean_squared_error: 0.0118 - val_loss: 0.0120 - val_mean_squared_error: 0.0120\n",
            "Epoch 195/250\n",
            "3/3 [==============================] - 0s 34ms/step - loss: 0.0117 - mean_squared_error: 0.0117 - val_loss: 0.0115 - val_mean_squared_error: 0.0115\n",
            "Epoch 196/250\n",
            "3/3 [==============================] - 0s 35ms/step - loss: 0.0101 - mean_squared_error: 0.0101 - val_loss: 0.0113 - val_mean_squared_error: 0.0113\n",
            "Epoch 197/250\n",
            "3/3 [==============================] - 0s 34ms/step - loss: 0.0093 - mean_squared_error: 0.0093 - val_loss: 0.0114 - val_mean_squared_error: 0.0114\n",
            "Epoch 198/250\n",
            "3/3 [==============================] - 0s 36ms/step - loss: 0.0093 - mean_squared_error: 0.0093 - val_loss: 0.0113 - val_mean_squared_error: 0.0113\n",
            "Epoch 199/250\n",
            "3/3 [==============================] - 0s 44ms/step - loss: 0.0088 - mean_squared_error: 0.0088 - val_loss: 0.0107 - val_mean_squared_error: 0.0107\n",
            "Epoch 200/250\n",
            "3/3 [==============================] - 0s 34ms/step - loss: 0.0087 - mean_squared_error: 0.0087 - val_loss: 0.0108 - val_mean_squared_error: 0.0108\n",
            "Epoch 201/250\n",
            "3/3 [==============================] - 0s 33ms/step - loss: 0.0081 - mean_squared_error: 0.0081 - val_loss: 0.0095 - val_mean_squared_error: 0.0095\n",
            "Epoch 202/250\n",
            "3/3 [==============================] - 0s 35ms/step - loss: 0.0091 - mean_squared_error: 0.0091 - val_loss: 0.0090 - val_mean_squared_error: 0.0090\n",
            "Epoch 203/250\n",
            "3/3 [==============================] - 0s 36ms/step - loss: 0.0077 - mean_squared_error: 0.0077 - val_loss: 0.0088 - val_mean_squared_error: 0.0088\n",
            "Epoch 204/250\n",
            "3/3 [==============================] - 0s 43ms/step - loss: 0.0085 - mean_squared_error: 0.0085 - val_loss: 0.0085 - val_mean_squared_error: 0.0085\n",
            "Epoch 205/250\n",
            "3/3 [==============================] - 0s 43ms/step - loss: 0.0087 - mean_squared_error: 0.0087 - val_loss: 0.0083 - val_mean_squared_error: 0.0083\n",
            "Epoch 206/250\n",
            "3/3 [==============================] - 0s 36ms/step - loss: 0.0083 - mean_squared_error: 0.0083 - val_loss: 0.0083 - val_mean_squared_error: 0.0083\n",
            "Epoch 207/250\n",
            "3/3 [==============================] - 0s 35ms/step - loss: 0.0087 - mean_squared_error: 0.0087 - val_loss: 0.0081 - val_mean_squared_error: 0.0081\n",
            "Epoch 208/250\n",
            "3/3 [==============================] - 0s 35ms/step - loss: 0.0084 - mean_squared_error: 0.0084 - val_loss: 0.0081 - val_mean_squared_error: 0.0081\n",
            "Epoch 209/250\n",
            "3/3 [==============================] - 0s 37ms/step - loss: 0.0084 - mean_squared_error: 0.0084 - val_loss: 0.0080 - val_mean_squared_error: 0.0080\n",
            "Epoch 210/250\n",
            "3/3 [==============================] - 0s 43ms/step - loss: 0.0072 - mean_squared_error: 0.0072 - val_loss: 0.0085 - val_mean_squared_error: 0.0085\n",
            "Epoch 211/250\n",
            "3/3 [==============================] - 0s 35ms/step - loss: 0.0084 - mean_squared_error: 0.0084 - val_loss: 0.0076 - val_mean_squared_error: 0.0076\n",
            "Epoch 212/250\n",
            "3/3 [==============================] - 0s 36ms/step - loss: 0.0069 - mean_squared_error: 0.0069 - val_loss: 0.0073 - val_mean_squared_error: 0.0073\n",
            "Epoch 213/250\n",
            "3/3 [==============================] - 0s 34ms/step - loss: 0.0077 - mean_squared_error: 0.0077 - val_loss: 0.0072 - val_mean_squared_error: 0.0072\n",
            "Epoch 214/250\n",
            "3/3 [==============================] - 0s 34ms/step - loss: 0.0069 - mean_squared_error: 0.0069 - val_loss: 0.0069 - val_mean_squared_error: 0.0069\n",
            "Epoch 215/250\n",
            "3/3 [==============================] - 0s 34ms/step - loss: 0.0076 - mean_squared_error: 0.0076 - val_loss: 0.0068 - val_mean_squared_error: 0.0068\n",
            "Epoch 216/250\n",
            "3/3 [==============================] - 0s 34ms/step - loss: 0.0073 - mean_squared_error: 0.0073 - val_loss: 0.0067 - val_mean_squared_error: 0.0067\n",
            "Epoch 217/250\n",
            "3/3 [==============================] - 0s 34ms/step - loss: 0.0083 - mean_squared_error: 0.0083 - val_loss: 0.0067 - val_mean_squared_error: 0.0067\n",
            "Epoch 218/250\n",
            "3/3 [==============================] - 0s 33ms/step - loss: 0.0076 - mean_squared_error: 0.0076 - val_loss: 0.0065 - val_mean_squared_error: 0.0065\n",
            "Epoch 219/250\n",
            "3/3 [==============================] - 0s 36ms/step - loss: 0.0070 - mean_squared_error: 0.0070 - val_loss: 0.0064 - val_mean_squared_error: 0.0064\n",
            "Epoch 220/250\n",
            "3/3 [==============================] - 0s 37ms/step - loss: 0.0068 - mean_squared_error: 0.0068 - val_loss: 0.0067 - val_mean_squared_error: 0.0067\n",
            "Epoch 221/250\n",
            "3/3 [==============================] - 0s 37ms/step - loss: 0.0068 - mean_squared_error: 0.0068 - val_loss: 0.0062 - val_mean_squared_error: 0.0062\n",
            "Epoch 222/250\n",
            "3/3 [==============================] - 0s 38ms/step - loss: 0.0073 - mean_squared_error: 0.0073 - val_loss: 0.0063 - val_mean_squared_error: 0.0063\n",
            "Epoch 223/250\n",
            "3/3 [==============================] - 0s 42ms/step - loss: 0.0068 - mean_squared_error: 0.0068 - val_loss: 0.0069 - val_mean_squared_error: 0.0069\n",
            "Epoch 224/250\n",
            "3/3 [==============================] - 0s 37ms/step - loss: 0.0067 - mean_squared_error: 0.0067 - val_loss: 0.0060 - val_mean_squared_error: 0.0060\n",
            "Epoch 225/250\n",
            "3/3 [==============================] - 0s 36ms/step - loss: 0.0063 - mean_squared_error: 0.0063 - val_loss: 0.0058 - val_mean_squared_error: 0.0058\n",
            "Epoch 226/250\n",
            "3/3 [==============================] - 0s 36ms/step - loss: 0.0065 - mean_squared_error: 0.0065 - val_loss: 0.0064 - val_mean_squared_error: 0.0064\n",
            "Epoch 227/250\n",
            "3/3 [==============================] - 0s 37ms/step - loss: 0.0073 - mean_squared_error: 0.0073 - val_loss: 0.0056 - val_mean_squared_error: 0.0056\n",
            "Epoch 228/250\n",
            "3/3 [==============================] - 0s 49ms/step - loss: 0.0069 - mean_squared_error: 0.0069 - val_loss: 0.0055 - val_mean_squared_error: 0.0055\n",
            "Epoch 229/250\n",
            "3/3 [==============================] - 0s 46ms/step - loss: 0.0060 - mean_squared_error: 0.0060 - val_loss: 0.0062 - val_mean_squared_error: 0.0062\n",
            "Epoch 230/250\n",
            "3/3 [==============================] - 0s 46ms/step - loss: 0.0069 - mean_squared_error: 0.0069 - val_loss: 0.0054 - val_mean_squared_error: 0.0054\n",
            "Epoch 231/250\n",
            "3/3 [==============================] - 0s 42ms/step - loss: 0.0066 - mean_squared_error: 0.0066 - val_loss: 0.0052 - val_mean_squared_error: 0.0052\n",
            "Epoch 232/250\n",
            "3/3 [==============================] - 0s 35ms/step - loss: 0.0068 - mean_squared_error: 0.0068 - val_loss: 0.0059 - val_mean_squared_error: 0.0059\n",
            "Epoch 233/250\n",
            "3/3 [==============================] - 0s 40ms/step - loss: 0.0065 - mean_squared_error: 0.0065 - val_loss: 0.0052 - val_mean_squared_error: 0.0052\n",
            "Epoch 234/250\n",
            "3/3 [==============================] - 0s 36ms/step - loss: 0.0069 - mean_squared_error: 0.0069 - val_loss: 0.0052 - val_mean_squared_error: 0.0052\n",
            "Epoch 235/250\n",
            "3/3 [==============================] - 0s 45ms/step - loss: 0.0063 - mean_squared_error: 0.0063 - val_loss: 0.0061 - val_mean_squared_error: 0.0061\n",
            "Epoch 236/250\n",
            "3/3 [==============================] - 0s 36ms/step - loss: 0.0070 - mean_squared_error: 0.0070 - val_loss: 0.0051 - val_mean_squared_error: 0.0051\n",
            "Epoch 237/250\n",
            "3/3 [==============================] - 0s 51ms/step - loss: 0.0071 - mean_squared_error: 0.0071 - val_loss: 0.0050 - val_mean_squared_error: 0.0050\n",
            "Epoch 238/250\n",
            "3/3 [==============================] - 0s 37ms/step - loss: 0.0062 - mean_squared_error: 0.0062 - val_loss: 0.0061 - val_mean_squared_error: 0.0061\n",
            "Epoch 239/250\n",
            "3/3 [==============================] - 0s 45ms/step - loss: 0.0065 - mean_squared_error: 0.0065 - val_loss: 0.0052 - val_mean_squared_error: 0.0052\n",
            "Epoch 240/250\n",
            "3/3 [==============================] - 0s 45ms/step - loss: 0.0060 - mean_squared_error: 0.0060 - val_loss: 0.0050 - val_mean_squared_error: 0.0050\n",
            "Epoch 241/250\n",
            "3/3 [==============================] - 0s 37ms/step - loss: 0.0059 - mean_squared_error: 0.0059 - val_loss: 0.0053 - val_mean_squared_error: 0.0053\n",
            "Epoch 242/250\n",
            "3/3 [==============================] - 0s 44ms/step - loss: 0.0064 - mean_squared_error: 0.0064 - val_loss: 0.0053 - val_mean_squared_error: 0.0053\n",
            "Epoch 243/250\n",
            "3/3 [==============================] - 0s 49ms/step - loss: 0.0059 - mean_squared_error: 0.0059 - val_loss: 0.0049 - val_mean_squared_error: 0.0049\n",
            "Epoch 244/250\n",
            "3/3 [==============================] - 0s 43ms/step - loss: 0.0058 - mean_squared_error: 0.0058 - val_loss: 0.0048 - val_mean_squared_error: 0.0048\n",
            "Epoch 245/250\n",
            "3/3 [==============================] - 0s 52ms/step - loss: 0.0063 - mean_squared_error: 0.0063 - val_loss: 0.0058 - val_mean_squared_error: 0.0058\n",
            "Epoch 246/250\n",
            "3/3 [==============================] - 0s 47ms/step - loss: 0.0060 - mean_squared_error: 0.0060 - val_loss: 0.0047 - val_mean_squared_error: 0.0047\n",
            "Epoch 247/250\n",
            "3/3 [==============================] - 0s 45ms/step - loss: 0.0060 - mean_squared_error: 0.0060 - val_loss: 0.0046 - val_mean_squared_error: 0.0046\n",
            "Epoch 248/250\n",
            "3/3 [==============================] - 0s 38ms/step - loss: 0.0056 - mean_squared_error: 0.0056 - val_loss: 0.0050 - val_mean_squared_error: 0.0050\n",
            "Epoch 249/250\n",
            "3/3 [==============================] - 0s 48ms/step - loss: 0.0058 - mean_squared_error: 0.0058 - val_loss: 0.0045 - val_mean_squared_error: 0.0045\n",
            "Epoch 250/250\n",
            "3/3 [==============================] - 0s 37ms/step - loss: 0.0055 - mean_squared_error: 0.0055 - val_loss: 0.0044 - val_mean_squared_error: 0.0044\n"
          ]
        }
      ]
    },
    {
      "cell_type": "code",
      "metadata": {
        "id": "g0XQUe0RSbon",
        "colab": {
          "base_uri": "https://localhost:8080/",
          "height": 281
        },
        "outputId": "4070920a-6e4e-4daa-bcd0-ccc614ef7d82"
      },
      "source": [
        "loss = history.history['loss']\n",
        "val_loss = history.history['val_loss']\n",
        "epochs = range(len(loss))\n",
        "plt.figure()\n",
        "plt.plot(epochs, loss, 'b', label='Training loss')\n",
        "plt.plot(epochs, val_loss, 'r', label='Validation loss')\n",
        "plt.title(\"Training and Validation Loss\")\n",
        "plt.legend()\n",
        "plt.show()"
      ],
      "execution_count": null,
      "outputs": [
        {
          "output_type": "display_data",
          "data": {
            "image/png": "[encoded data removed]",
            "text/plain": [
              "<Figure size 432x288 with 1 Axes>"
            ]
          },
          "metadata": {
            "needs_background": "light"
          }
        }
      ]
    },
    {
      "cell_type": "markdown",
      "metadata": {
        "id": "GoyrlNK0Q_dJ"
      },
      "source": [
        "##MAKING PREDICTIONS"
      ]
    },
    {
      "cell_type": "code",
      "metadata": {
        "id": "lervxdm5crv9",
        "colab": {
          "base_uri": "https://localhost:8080/"
        },
        "outputId": "428fb6db-7fb9-4bf3-8a64-336e489ae18c"
      },
      "source": [
        "y_pred = model.predict(x_test) \n",
        "\n",
        "y_pred[-10:-1]"
      ],
      "execution_count": null,
      "outputs": [
        {
          "output_type": "execute_result",
          "data": {
            "text/plain": [
              "array([[0.8129227 ],\n",
              "       [0.82653344],\n",
              "       [0.8427169 ],\n",
              "       [0.76664066],\n",
              "       [0.18221933],\n",
              "       [0.8052101 ],\n",
              "       [0.16079116],\n",
              "       [0.3718524 ],\n",
              "       [0.6260074 ]], dtype=float32)"
            ]
          },
          "metadata": {},
          "execution_count": 30
        }
      ]
    },
    {
      "cell_type": "code",
      "source": [
        "y_test[-10:-1]"
      ],
      "metadata": {
        "id": "dXoNNO0vRB_-",
        "colab": {
          "base_uri": "https://localhost:8080/"
        },
        "outputId": "59bf88f8-f8c3-491e-8572-5e64a63b1d86"
      },
      "execution_count": null,
      "outputs": [
        {
          "output_type": "execute_result",
          "data": {
            "text/plain": [
              "array([[0.8606866 ],\n",
              "       [0.8460689 ],\n",
              "       [0.87975708],\n",
              "       [0.72395175],\n",
              "       [0.12342007],\n",
              "       [0.82330237],\n",
              "       [0.02976319],\n",
              "       [0.41494587],\n",
              "       [0.6260834 ]])"
            ]
          },
          "metadata": {},
          "execution_count": 31
        }
      ]
    },
    {
      "cell_type": "code",
      "metadata": {
        "id": "84SUbxJV544A",
        "colab": {
          "base_uri": "https://localhost:8080/"
        },
        "outputId": "416a5641-5f9e-4041-87d8-45c4e653e96c"
      },
      "source": [
        "error_arr=y_test-y_pred\n",
        "error_arr[-10:-1]"
      ],
      "execution_count": null,
      "outputs": [
        {
          "output_type": "execute_result",
          "data": {
            "text/plain": [
              "array([[ 4.77638830e-02],\n",
              "       [ 1.95354661e-02],\n",
              "       [ 3.70402082e-02],\n",
              "       [-4.26889179e-02],\n",
              "       [-5.87992606e-02],\n",
              "       [ 1.80922542e-02],\n",
              "       [-1.31027966e-01],\n",
              "       [ 4.30934742e-02],\n",
              "       [ 7.60215186e-05]])"
            ]
          },
          "metadata": {},
          "execution_count": 32
        }
      ]
    },
    {
      "cell_type": "code",
      "source": [
        "y_pred=scaler.inverse_transform(y_pred)\n",
        "y_test=scaler.inverse_transform(y_test)"
      ],
      "metadata": {
        "id": "eaFf-AzsRI9X"
      },
      "execution_count": null,
      "outputs": []
    },
    {
      "cell_type": "code",
      "source": [
        "y_pred\n"
      ],
      "metadata": {
        "colab": {
          "base_uri": "https://localhost:8080/"
        },
        "id": "Y2x0YVJbh0E4",
        "outputId": "5b7a4ebe-dc5d-47ee-9597-5992c19b35a6"
      },
      "execution_count": null,
      "outputs": [
        {
          "output_type": "execute_result",
          "data": {
            "text/plain": [
              "array([[25870.045],\n",
              "       [38922.113],\n",
              "       [36569.04 ],\n",
              "       [59010.133],\n",
              "       [58993.89 ],\n",
              "       [60022.664],\n",
              "       [45755.066],\n",
              "       [45355.355],\n",
              "       [43885.453],\n",
              "       [48482.156],\n",
              "       [31222.277],\n",
              "       [46458.426],\n",
              "       [30360.605],\n",
              "       [44153.44 ],\n",
              "       [45555.613],\n",
              "       [25744.803],\n",
              "       [58252.895],\n",
              "       [55433.72 ],\n",
              "       [35996.305],\n",
              "       [38844.668],\n",
              "       [49761.285],\n",
              "       [48394.125],\n",
              "       [37573.426],\n",
              "       [42760.01 ],\n",
              "       [57523.605],\n",
              "       [40733.145],\n",
              "       [48489.23 ],\n",
              "       [54218.824],\n",
              "       [45348.027],\n",
              "       [26984.47 ],\n",
              "       [47241.21 ],\n",
              "       [50280.996],\n",
              "       [41836.22 ],\n",
              "       [59055.383],\n",
              "       [36068.715],\n",
              "       [58629.477],\n",
              "       [45797.887],\n",
              "       [25595.914],\n",
              "       [45426.727],\n",
              "       [37484.367],\n",
              "       [49242.777],\n",
              "       [51370.703],\n",
              "       [58707.473],\n",
              "       [58762.957],\n",
              "       [34643.277],\n",
              "       [57662.246],\n",
              "       [34688.17 ],\n",
              "       [37414.51 ],\n",
              "       [34429.996],\n",
              "       [31937.797],\n",
              "       [58558.31 ],\n",
              "       [56743.438],\n",
              "       [45802.79 ],\n",
              "       [45170.74 ],\n",
              "       [57586.484],\n",
              "       [30666.637],\n",
              "       [37546.1  ],\n",
              "       [44722.742],\n",
              "       [37244.914],\n",
              "       [45394.836],\n",
              "       [26989.412],\n",
              "       [57783.14 ],\n",
              "       [32557.33 ],\n",
              "       [28101.336],\n",
              "       [58241.133],\n",
              "       [58919.62 ],\n",
              "       [59726.36 ],\n",
              "       [55934.   ],\n",
              "       [26800.94 ],\n",
              "       [57856.664],\n",
              "       [25732.758],\n",
              "       [36254.04 ],\n",
              "       [48923.516],\n",
              "       [55831.707]], dtype=float32)"
            ]
          },
          "metadata": {},
          "execution_count": 34
        }
      ]
    },
    {
      "cell_type": "code",
      "metadata": {
        "id": "WLU_CXMwdC2n",
        "colab": {
          "base_uri": "https://localhost:8080/",
          "height": 350
        },
        "outputId": "b9ac2f98-0771-4b2f-a43a-8b2a25a71cc0"
      },
      "source": [
        "plt.figure(figsize=(14,5))\n",
        "plt.plot(y_test, color = 'red', label = 'Real Bitcoin Price')\n",
        "plt.plot(y_pred, color = 'green', label = 'Predicted Bitcoin Price')\n",
        "plt.title('Bitcoin Price Prediction using RNN-LSTM')\n",
        "plt.xlabel('Time')\n",
        "plt.ylabel('Price')\n",
        "plt.legend()\n",
        "plt.show()"
      ],
      "execution_count": null,
      "outputs": [
        {
          "output_type": "display_data",
          "data": {
            "image/png": "[encoded data removed]",
            "text/plain": [
              "<Figure size 1008x360 with 1 Axes>"
            ]
          },
          "metadata": {
            "needs_background": "light"
          }
        }
      ]
    },
    {
      "cell_type": "markdown",
      "metadata": {
        "id": "s0lR-DTLRXDj"
      },
      "source": [
        "##FINDING ACCURACY"
      ]
    },
    {
      "cell_type": "code",
      "metadata": {
        "id": "BFHf7upgnCbk",
        "colab": {
          "base_uri": "https://localhost:8080/"
        },
        "outputId": "6b0b3830-e049-47f8-de44-a9b19f6fc9df"
      },
      "source": [
        "from sklearn.metrics import mean_absolute_percentage_error\n",
        "mean_absolute_percentage_error(y_test, y_pred)\n"
      ],
      "execution_count": null,
      "outputs": [
        {
          "output_type": "execute_result",
          "data": {
            "text/plain": [
              "0.058141220599460176"
            ]
          },
          "metadata": {},
          "execution_count": 36
        }
      ]
    }
  ]
}